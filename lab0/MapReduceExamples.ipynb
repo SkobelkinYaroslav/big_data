{
 "nbformat": 4,
 "nbformat_minor": 0,
 "metadata": {
  "colab": {
   "provenance": []
  },
  "kernelspec": {
   "name": "python3",
   "display_name": "Python 3 (ipykernel)",
   "language": "python"
  }
 },
 "cells": [
  {
   "cell_type": "markdown",
   "metadata": {
    "id": "82OvPKEiEqjc"
   },
   "source": [
    "# Введение в MapReduce модель на Python\n"
   ]
  },
  {
   "cell_type": "code",
   "metadata": {
    "id": "JQ2cvXLjICmI",
    "ExecuteTime": {
     "end_time": "2025-03-03T17:58:12.880935Z",
     "start_time": "2025-03-03T17:58:12.862938Z"
    }
   },
   "source": [
    "from typing import NamedTuple # requires python 3.6+\n",
    "from typing import Iterator"
   ],
   "outputs": [],
   "execution_count": 3
  },
  {
   "cell_type": "code",
   "metadata": {
    "id": "yjPHumVwEyEg",
    "ExecuteTime": {
     "end_time": "2025-03-03T17:58:13.245942Z",
     "start_time": "2025-03-03T17:58:13.235941Z"
    }
   },
   "source": [
    "def MAP(_, row:NamedTuple):\n",
    "  if (row.gender == 'female'):\n",
    "    yield (row.age, row)\n",
    "    \n",
    "def REDUCE(age:str, rows:Iterator[NamedTuple]):\n",
    "  sum = 0\n",
    "  count = 0\n",
    "  for row in rows:\n",
    "    sum += row.social_contacts\n",
    "    count += 1\n",
    "  if (count > 0):\n",
    "    yield (age, sum/count)\n",
    "  else:\n",
    "    yield (age, 0)"
   ],
   "outputs": [],
   "execution_count": 4
  },
  {
   "cell_type": "markdown",
   "metadata": {
    "id": "vBKMgpG_ilaZ"
   },
   "source": [
    "Модель элемента данных"
   ]
  },
  {
   "cell_type": "code",
   "metadata": {
    "id": "Rv-XIjhTJPx3",
    "ExecuteTime": {
     "end_time": "2025-03-03T17:58:13.277943Z",
     "start_time": "2025-03-03T17:58:13.269942Z"
    }
   },
   "source": [
    "class User(NamedTuple):\n",
    "  id: int\n",
    "  age: str\n",
    "  social_contacts: int\n",
    "  gender: str"
   ],
   "outputs": [],
   "execution_count": 5
  },
  {
   "cell_type": "code",
   "metadata": {
    "id": "5KV0Ze2vQgu5",
    "ExecuteTime": {
     "end_time": "2025-03-03T17:58:13.341938Z",
     "start_time": "2025-03-03T17:58:13.334940Z"
    }
   },
   "source": [
    "input_collection = [\n",
    "    User(id=0, age=55, gender='male', social_contacts=20),\n",
    "    User(id=1, age=25, gender='female', social_contacts=240),\n",
    "    User(id=2, age=25, gender='female', social_contacts=500),\n",
    "    User(id=3, age=33, gender='female', social_contacts=800)\n",
    "]"
   ],
   "outputs": [],
   "execution_count": 6
  },
  {
   "cell_type": "markdown",
   "metadata": {
    "id": "YFeqzyZxZIFZ"
   },
   "source": [
    "Функция RECORDREADER моделирует чтение элементов с диска или по сети."
   ]
  },
  {
   "cell_type": "code",
   "metadata": {
    "id": "S5HR4E_GQoMJ",
    "ExecuteTime": {
     "end_time": "2025-03-03T17:58:13.389940Z",
     "start_time": "2025-03-03T17:58:13.378938Z"
    }
   },
   "source": [
    "def RECORDREADER():\n",
    "  return [(u.id, u) for u in input_collection]"
   ],
   "outputs": [],
   "execution_count": 7
  },
  {
   "cell_type": "code",
   "metadata": {
    "id": "NeEoWla-ROUy",
    "colab": {
     "base_uri": "https://localhost:8080/",
     "height": 85
    },
    "outputId": "94ca6e0e-4644-4282-acbf-1759d7ba2918",
    "ExecuteTime": {
     "end_time": "2025-03-03T17:58:13.453942Z",
     "start_time": "2025-03-03T17:58:13.440938Z"
    }
   },
   "source": [
    "list(RECORDREADER())"
   ],
   "outputs": [
    {
     "data": {
      "text/plain": [
       "[(0, User(id=0, age=55, social_contacts=20, gender='male')),\n",
       " (1, User(id=1, age=25, social_contacts=240, gender='female')),\n",
       " (2, User(id=2, age=25, social_contacts=500, gender='female')),\n",
       " (3, User(id=3, age=33, social_contacts=800, gender='female'))]"
      ]
     },
     "execution_count": 8,
     "metadata": {},
     "output_type": "execute_result"
    }
   ],
   "execution_count": 8
  },
  {
   "cell_type": "code",
   "metadata": {
    "id": "YB8orgPSZs8M",
    "ExecuteTime": {
     "end_time": "2025-03-03T17:58:13.533941Z",
     "start_time": "2025-03-03T17:58:13.518948Z"
    }
   },
   "source": [
    "def flatten(nested_iterable):\n",
    "  for iterable in nested_iterable:\n",
    "    for element in iterable:\n",
    "      yield element"
   ],
   "outputs": [],
   "execution_count": 9
  },
  {
   "cell_type": "code",
   "metadata": {
    "id": "74oyvDLaRmd5",
    "colab": {
     "base_uri": "https://localhost:8080/",
     "height": 68
    },
    "outputId": "c6147702-7153-47c7-a574-d5fe6abe29a8",
    "ExecuteTime": {
     "end_time": "2025-03-03T17:58:13.627941Z",
     "start_time": "2025-03-03T17:58:13.619938Z"
    }
   },
   "source": [
    "map_output = flatten(map(lambda x: MAP(*x), RECORDREADER()))\n",
    "map_output = list(map_output) # materialize\n",
    "map_output"
   ],
   "outputs": [
    {
     "data": {
      "text/plain": [
       "[(25, User(id=1, age=25, social_contacts=240, gender='female')),\n",
       " (25, User(id=2, age=25, social_contacts=500, gender='female')),\n",
       " (33, User(id=3, age=33, social_contacts=800, gender='female'))]"
      ]
     },
     "execution_count": 10,
     "metadata": {},
     "output_type": "execute_result"
    }
   ],
   "execution_count": 10
  },
  {
   "cell_type": "code",
   "metadata": {
    "id": "8ncYDJ3-VzDn",
    "ExecuteTime": {
     "end_time": "2025-03-03T17:58:13.675940Z",
     "start_time": "2025-03-03T17:58:13.663942Z"
    }
   },
   "source": [
    "def groupbykey(iterable):\n",
    "  t = {}\n",
    "  for (k2, v2) in iterable:\n",
    "    t[k2] = t.get(k2, []) + [v2]\n",
    "  return t.items()"
   ],
   "outputs": [],
   "execution_count": 11
  },
  {
   "cell_type": "code",
   "metadata": {
    "id": "cKzY_6COWOA2",
    "colab": {
     "base_uri": "https://localhost:8080/",
     "height": 85
    },
    "outputId": "e6791b12-e409-47e9-bcd4-e9f8ca8611bd",
    "ExecuteTime": {
     "end_time": "2025-03-03T17:58:13.786941Z",
     "start_time": "2025-03-03T17:58:13.768937Z"
    }
   },
   "source": [
    "shuffle_output = groupbykey(map_output)\n",
    "shuffle_output = list(shuffle_output)\n",
    "shuffle_output"
   ],
   "outputs": [
    {
     "data": {
      "text/plain": [
       "[(25,\n",
       "  [User(id=1, age=25, social_contacts=240, gender='female'),\n",
       "   User(id=2, age=25, social_contacts=500, gender='female')]),\n",
       " (33, [User(id=3, age=33, social_contacts=800, gender='female')])]"
      ]
     },
     "execution_count": 12,
     "metadata": {},
     "output_type": "execute_result"
    }
   ],
   "execution_count": 12
  },
  {
   "cell_type": "code",
   "metadata": {
    "id": "NlA7lkDDYL0t",
    "colab": {
     "base_uri": "https://localhost:8080/",
     "height": 34
    },
    "outputId": "6b25d03f-5c92-4f3b-f500-6d70acd598b7",
    "ExecuteTime": {
     "end_time": "2025-03-03T17:58:13.850942Z",
     "start_time": "2025-03-03T17:58:13.835941Z"
    }
   },
   "source": [
    "reduce_output = flatten(map(lambda x: REDUCE(*x), shuffle_output))\n",
    "reduce_output = list(reduce_output)\n",
    "reduce_output"
   ],
   "outputs": [
    {
     "data": {
      "text/plain": [
       "[(25, 370.0), (33, 800.0)]"
      ]
     },
     "execution_count": 13,
     "metadata": {},
     "output_type": "execute_result"
    }
   ],
   "execution_count": 13
  },
  {
   "cell_type": "markdown",
   "metadata": {
    "id": "xf6qhHEtd6bI"
   },
   "source": [
    "Все действия одним конвейером!"
   ]
  },
  {
   "cell_type": "code",
   "metadata": {
    "id": "dZaQGYxCdpw5",
    "colab": {
     "base_uri": "https://localhost:8080/",
     "height": 34
    },
    "outputId": "3f5c6425-e5c5-49d2-b2cd-ce58a9acc33c",
    "ExecuteTime": {
     "end_time": "2025-03-03T17:58:13.930942Z",
     "start_time": "2025-03-03T17:58:13.908939Z"
    }
   },
   "source": [
    "list(flatten(map(lambda x: REDUCE(*x), groupbykey(flatten(map(lambda x: MAP(*x), RECORDREADER()))))))"
   ],
   "outputs": [
    {
     "data": {
      "text/plain": [
       "[(25, 370.0), (33, 800.0)]"
      ]
     },
     "execution_count": 14,
     "metadata": {},
     "output_type": "execute_result"
    }
   ],
   "execution_count": 14
  },
  {
   "cell_type": "markdown",
   "metadata": {
    "id": "Vq3EWRIpwSiJ"
   },
   "source": [
    "# **MapReduce**\n",
    "Выделим общую для всех пользователей часть системы в отдельную функцию высшего порядка. Это наиболее простая модель MapReduce, без учёта распределённого хранения данных. \n",
    "\n",
    "Пользователь для решения своей задачи реализует RECORDREADER, MAP, REDUCE."
   ]
  },
  {
   "cell_type": "code",
   "metadata": {
    "id": "V1PZeQMwwVjc",
    "ExecuteTime": {
     "end_time": "2025-03-03T17:58:14.010936Z",
     "start_time": "2025-03-03T17:58:13.989947Z"
    }
   },
   "source": [
    "def flatten(nested_iterable):\n",
    "  for iterable in nested_iterable:\n",
    "    for element in iterable:\n",
    "      yield element\n",
    "\n",
    "def groupbykey(iterable):\n",
    "  t = {}\n",
    "  for (k2, v2) in iterable:\n",
    "    t[k2] = t.get(k2, []) + [v2]\n",
    "  return t.items()\n",
    "\n",
    "def MapReduce(RECORDREADER, MAP, REDUCE):\n",
    "  return flatten(map(lambda x: REDUCE(*x), groupbykey(flatten(map(lambda x: MAP(*x), RECORDREADER())))))"
   ],
   "outputs": [],
   "execution_count": 15
  },
  {
   "cell_type": "markdown",
   "metadata": {
    "id": "iFIVrimep678"
   },
   "source": [
    "## Спецификация MapReduce\n",
    "\n",
    "\n",
    "\n",
    "```\n",
    "f (k1, v1) -> (k2,v2)*\n",
    "g (k2, v2*) -> (k3,v3)*\n",
    " \n",
    "mapreduce ((k1,v1)*) -> (k3,v3)*\n",
    "groupby ((k2,v2)*) -> (k2,v2*)*\n",
    "flatten (e2**) -> e2*\n",
    " \n",
    "mapreduce .map(f).flatten.groupby(k2).map(g).flatten\n",
    "```\n",
    "\n",
    "\n"
   ]
  },
  {
   "cell_type": "markdown",
   "metadata": {
    "id": "QtTFyqke3KGe"
   },
   "source": [
    "# Примеры"
   ]
  },
  {
   "cell_type": "markdown",
   "metadata": {
    "id": "BNhh5763w5Vn"
   },
   "source": [
    "## SQL "
   ]
  },
  {
   "cell_type": "code",
   "metadata": {
    "id": "QkyurnvGxBGk",
    "colab": {
     "base_uri": "https://localhost:8080/",
     "height": 34
    },
    "outputId": "84761282-d2ba-435a-e8d7-a85150730e10",
    "ExecuteTime": {
     "end_time": "2025-03-03T17:58:14.042931Z",
     "start_time": "2025-03-03T17:58:14.029943Z"
    }
   },
   "source": [
    "from typing import NamedTuple # requires python 3.6+\n",
    "from typing import Iterator\n",
    "\n",
    "class User(NamedTuple):\n",
    "  id: int\n",
    "  age: str\n",
    "  social_contacts: int\n",
    "  gender: str\n",
    "    \n",
    "input_collection = [\n",
    "    User(id=0, age=55, gender='male', social_contacts=20),\n",
    "    User(id=1, age=25, gender='female', social_contacts=240),\n",
    "    User(id=2, age=25, gender='female', social_contacts=500),\n",
    "    User(id=3, age=33, gender='female', social_contacts=800)\n",
    "]\n",
    "\n",
    "def MAP(_, row:NamedTuple):\n",
    "  if (row.gender == 'female'):\n",
    "    yield (row.age, row)\n",
    "    \n",
    "def REDUCE(age:str, rows:Iterator[NamedTuple]):\n",
    "  sum = 0\n",
    "  count = 0\n",
    "  for row in rows:\n",
    "    sum += row.social_contacts\n",
    "    count += 1\n",
    "  if (count > 0):\n",
    "    yield (age, sum/count)\n",
    "  else:\n",
    "    yield (age, 0)\n",
    " \n",
    "def RECORDREADER():\n",
    "  return [(u.id, u) for u in input_collection]\n",
    "\n",
    "output = MapReduce(RECORDREADER, MAP, REDUCE)\n",
    "output = list(output)\n",
    "output"
   ],
   "outputs": [
    {
     "data": {
      "text/plain": [
       "[(25, 370.0), (33, 800.0)]"
      ]
     },
     "execution_count": 16,
     "metadata": {},
     "output_type": "execute_result"
    }
   ],
   "execution_count": 16
  },
  {
   "cell_type": "markdown",
   "metadata": {
    "id": "kNKYIeerx0nY"
   },
   "source": [
    "## Matrix-Vector multiplication "
   ]
  },
  {
   "cell_type": "code",
   "metadata": {
    "id": "rwcntRcCyi1V",
    "colab": {
     "base_uri": "https://localhost:8080/",
     "height": 102
    },
    "outputId": "606737ab-6b55-455c-931f-4fc45155f8a9",
    "ExecuteTime": {
     "end_time": "2025-03-03T17:58:14.137936Z",
     "start_time": "2025-03-03T17:58:14.125943Z"
    }
   },
   "source": [
    "from typing import Iterator\n",
    "import numpy as np\n",
    "\n",
    "mat = np.ones((5,4))\n",
    "vec = np.random.rand(4) # in-memory vector in all map tasks\n",
    "\n",
    "def MAP(coordinates:(int, int), value:int):\n",
    "  i, j = coordinates\n",
    "  yield (i, value*vec[j])\n",
    " \n",
    "def REDUCE(i:int, products:Iterator[NamedTuple]):\n",
    "  sum = 0\n",
    "  for p in products:\n",
    "    sum += p\n",
    "  yield (i, sum)\n",
    "\n",
    "def RECORDREADER():\n",
    "  for i in range(mat.shape[0]):\n",
    "    for j in range(mat.shape[1]):\n",
    "      yield ((i, j), mat[i,j])\n",
    "      \n",
    "output = MapReduce(RECORDREADER, MAP, REDUCE)\n",
    "output = list(output)\n",
    "output"
   ],
   "outputs": [
    {
     "data": {
      "text/plain": [
       "[(0, np.float64(2.9113572290351506)),\n",
       " (1, np.float64(2.9113572290351506)),\n",
       " (2, np.float64(2.9113572290351506)),\n",
       " (3, np.float64(2.9113572290351506)),\n",
       " (4, np.float64(2.9113572290351506))]"
      ]
     },
     "execution_count": 17,
     "metadata": {},
     "output_type": "execute_result"
    }
   ],
   "execution_count": 17
  },
  {
   "cell_type": "markdown",
   "metadata": {
    "id": "ruZREYdi2o4O"
   },
   "source": [
    "## Inverted index "
   ]
  },
  {
   "cell_type": "code",
   "metadata": {
    "id": "vt9H9Alf3TYv",
    "colab": {
     "base_uri": "https://localhost:8080/",
     "height": 102
    },
    "outputId": "51aeffc9-e111-4607-bd84-cfcc7b56f238",
    "ExecuteTime": {
     "end_time": "2025-03-03T17:58:14.169937Z",
     "start_time": "2025-03-03T17:58:14.150931Z"
    }
   },
   "source": [
    "from typing import Iterator\n",
    "\n",
    "d1 = \"it is what it is\"\n",
    "d2 = \"what is it\"\n",
    "d3 = \"it is a banana\"\n",
    "documents = [d1, d2, d3]\n",
    "\n",
    "def RECORDREADER():\n",
    "  for (docid, document) in enumerate(documents):\n",
    "    yield (\"{}\".format(docid), document)\n",
    "      \n",
    "def MAP(docId:str, body:str):\n",
    "  for word in set(body.split(' ')):\n",
    "    yield (word, docId)\n",
    " \n",
    "def REDUCE(word:str, docIds:Iterator[str]):\n",
    "  yield (word, sorted(docIds))\n",
    "\n",
    "output = MapReduce(RECORDREADER, MAP, REDUCE)\n",
    "output = list(output)\n",
    "output"
   ],
   "outputs": [
    {
     "data": {
      "text/plain": [
       "[('it', ['0', '1', '2']),\n",
       " ('what', ['0', '1']),\n",
       " ('is', ['0', '1', '2']),\n",
       " ('banana', ['2']),\n",
       " ('a', ['2'])]"
      ]
     },
     "execution_count": 18,
     "metadata": {},
     "output_type": "execute_result"
    }
   ],
   "execution_count": 18
  },
  {
   "cell_type": "markdown",
   "metadata": {
    "id": "R7az-6DA6qr2"
   },
   "source": [
    "## WordCount"
   ]
  },
  {
   "cell_type": "code",
   "metadata": {
    "id": "dN-nbtgG6uYG",
    "colab": {
     "base_uri": "https://localhost:8080/",
     "height": 34
    },
    "outputId": "24117576-7931-401d-a581-28e246b23453",
    "ExecuteTime": {
     "end_time": "2025-03-03T17:58:14.247932Z",
     "start_time": "2025-03-03T17:58:14.225942Z"
    }
   },
   "source": [
    "from typing import Iterator\n",
    "\n",
    "d1 = \"\"\"\n",
    "it is what it is\n",
    "it is what it is\n",
    "it is what it is\"\"\"\n",
    "d2 = \"\"\"\n",
    "what is it\n",
    "what is it\"\"\"\n",
    "d3 = \"\"\"\n",
    "it is a banana\"\"\"\n",
    "documents = [d1, d2, d3]\n",
    "\n",
    "def RECORDREADER():\n",
    "  for (docid, document) in enumerate(documents):\n",
    "    for (lineid, line) in enumerate(document.split('\\n')):\n",
    "      yield (\"{}:{}\".format(docid,lineid), line)\n",
    "\n",
    "def MAP(docId:str, line:str):\n",
    "  for word in line.split(\" \"):  \n",
    "    yield (word, 1)\n",
    " \n",
    "def REDUCE(word:str, counts:Iterator[int]):\n",
    "  sum = 0\n",
    "  for c in counts:\n",
    "    sum += c\n",
    "  yield (word, sum)\n",
    "\n",
    "output = MapReduce(RECORDREADER, MAP, REDUCE)\n",
    "output = list(output)\n",
    "output"
   ],
   "outputs": [
    {
     "data": {
      "text/plain": [
       "[('', 3), ('it', 9), ('is', 9), ('what', 5), ('a', 1), ('banana', 1)]"
      ]
     },
     "execution_count": 19,
     "metadata": {},
     "output_type": "execute_result"
    }
   ],
   "execution_count": 19
  },
  {
   "cell_type": "markdown",
   "metadata": {
    "id": "h-jRAcYCAkkk"
   },
   "source": [
    "# MapReduce Distributed\n",
    "\n",
    "Добавляется в модель фабрика RECORDREARER-ов --- INPUTFORMAT, функция распределения промежуточных результатов по партициям PARTITIONER, и функция COMBINER для частичной аггрегации промежуточных результатов до распределения по новым партициям."
   ]
  },
  {
   "cell_type": "code",
   "metadata": {
    "id": "nw-b-xJsApgW",
    "ExecuteTime": {
     "end_time": "2025-03-03T17:58:14.279936Z",
     "start_time": "2025-03-03T17:58:14.267937Z"
    }
   },
   "source": [
    "def flatten(nested_iterable):\n",
    "  for iterable in nested_iterable:\n",
    "    for element in iterable:\n",
    "      yield element\n",
    "\n",
    "def groupbykey(iterable):\n",
    "  t = {}\n",
    "  for (k2, v2) in iterable:\n",
    "    t[k2] = t.get(k2, []) + [v2]\n",
    "  return t.items()\n",
    "      \n",
    "def groupbykey_distributed(map_partitions, PARTITIONER):\n",
    "  global reducers\n",
    "  partitions = [dict() for _ in range(reducers)]\n",
    "  for map_partition in map_partitions:\n",
    "    for (k2, v2) in map_partition:\n",
    "      p = partitions[PARTITIONER(k2)]\n",
    "      p[k2] = p.get(k2, []) + [v2]\n",
    "  return [(partition_id, sorted(partition.items(), key=lambda x: x[0])) for (partition_id, partition) in enumerate(partitions)]\n",
    " \n",
    "def PARTITIONER(obj):\n",
    "  global reducers\n",
    "  return hash(obj) % reducers\n",
    "  \n",
    "def MapReduceDistributed(INPUTFORMAT, MAP, REDUCE, PARTITIONER=PARTITIONER, COMBINER=None):\n",
    "  map_partitions = map(lambda record_reader: flatten(map(lambda k1v1: MAP(*k1v1), record_reader)), INPUTFORMAT())\n",
    "  if COMBINER != None:\n",
    "    map_partitions = map(lambda map_partition: flatten(map(lambda k2v2: COMBINER(*k2v2), groupbykey(map_partition))), map_partitions)\n",
    "  reduce_partitions = groupbykey_distributed(map_partitions, PARTITIONER) # shuffle\n",
    "  reduce_outputs = map(lambda reduce_partition: (reduce_partition[0], flatten(map(lambda reduce_input_group: REDUCE(*reduce_input_group), reduce_partition[1]))), reduce_partitions)\n",
    "  \n",
    "  print(\"{} key-value pairs were sent over a network.\".format(sum([len(vs) for (k,vs) in flatten([partition for (partition_id, partition) in reduce_partitions])])))\n",
    "  return reduce_outputs"
   ],
   "outputs": [],
   "execution_count": 20
  },
  {
   "cell_type": "markdown",
   "metadata": {
    "id": "kxirlf3XqZxY"
   },
   "source": [
    "## Спецификация MapReduce Distributed\n",
    "\n",
    "\n",
    "```\n",
    "f (k1, v1) -> (k2,v2)*\n",
    "g (k2, v2*) -> (k3,v3)*\n",
    " \n",
    "e1 (k1, v1)\n",
    "e2 (k2, v2)\n",
    "partition1 (k2, v2)*\n",
    "partition2 (k2, v2*)*\n",
    " \n",
    "flatmap (e1->e2*, e1*) -> partition1*\n",
    "groupby (partition1*) -> partition2*\n",
    "\n",
    "mapreduce ((k1,v1)*) -> (k3,v3)*\n",
    "mapreduce .flatmap(f).groupby(k2).flatmap(g)\n",
    "```\n",
    "\n"
   ]
  },
  {
   "cell_type": "markdown",
   "metadata": {
    "id": "CWYw_CpbbY3C"
   },
   "source": [
    "## WordCount "
   ]
  },
  {
   "cell_type": "code",
   "metadata": {
    "id": "uR_zfGFkMZlp",
    "colab": {
     "base_uri": "https://localhost:8080/",
     "height": 68
    },
    "outputId": "c8d46167-473d-43b9-881a-2396991b3731",
    "ExecuteTime": {
     "end_time": "2025-03-03T17:58:14.357936Z",
     "start_time": "2025-03-03T17:58:14.341936Z"
    }
   },
   "source": [
    "from typing import Iterator\n",
    "import numpy as np\n",
    "\n",
    "d1 = \"\"\"\n",
    "it is what it is\n",
    "it is what it is\n",
    "it is what it is\"\"\"\n",
    "d2 = \"\"\"\n",
    "what is it\n",
    "what is it\"\"\"\n",
    "d3 = \"\"\"\n",
    "it is a banana\"\"\"\n",
    "documents = [d1, d2, d3, d1, d2, d3]\n",
    "\n",
    "maps = 3\n",
    "reducers = 2\n",
    "\n",
    "def INPUTFORMAT():\n",
    "  global maps\n",
    "  \n",
    "  def RECORDREADER(split):\n",
    "    for (docid, document) in enumerate(split):\n",
    "      for (lineid, line) in enumerate(document.split('\\n')):\n",
    "        yield (\"{}:{}\".format(docid,lineid), line)\n",
    "      \n",
    "  split_size =  int(np.ceil(len(documents)/maps))\n",
    "  for i in range(0, len(documents), split_size):\n",
    "    yield RECORDREADER(documents[i:i+split_size])\n",
    "\n",
    "def MAP(docId:str, line:str):\n",
    "  for word in line.split(\" \"):  \n",
    "    yield (word, 1)\n",
    " \n",
    "def REDUCE(word:str, counts:Iterator[int]):\n",
    "  sum = 0\n",
    "  for c in counts:\n",
    "    sum += c\n",
    "  yield (word, sum)\n",
    "  \n",
    "# try to set COMBINER=REDUCER and look at the number of values sent over the network \n",
    "partitioned_output = MapReduceDistributed(INPUTFORMAT, MAP, REDUCE, COMBINER=None) \n",
    "partitioned_output = [(partition_id, list(partition)) for (partition_id, partition) in partitioned_output]\n",
    "partitioned_output"
   ],
   "outputs": [
    {
     "name": "stdout",
     "output_type": "stream",
     "text": [
      "56 key-value pairs were sent over a network.\n"
     ]
    },
    {
     "data": {
      "text/plain": [
       "[(0, [('', 6), ('a', 2), ('it', 18), ('what', 10)]),\n",
       " (1, [('banana', 2), ('is', 18)])]"
      ]
     },
     "execution_count": 21,
     "metadata": {},
     "output_type": "execute_result"
    }
   ],
   "execution_count": 21
  },
  {
   "cell_type": "markdown",
   "metadata": {
    "id": "gCJGx8IQ87xS"
   },
   "source": [
    "## TeraSort"
   ]
  },
  {
   "cell_type": "code",
   "metadata": {
    "id": "P2v8v1v_8_YR",
    "colab": {
     "base_uri": "https://localhost:8080/",
     "height": 578
    },
    "outputId": "e0987c25-9757-46cb-8e55-d5d2adfbee2b",
    "ExecuteTime": {
     "end_time": "2025-03-03T17:58:14.405933Z",
     "start_time": "2025-03-03T17:58:14.389935Z"
    }
   },
   "source": [
    "import numpy as np\n",
    "\n",
    "input_values = np.random.rand(30)\n",
    "maps = 3\n",
    "reducers = 2\n",
    "min_value = 0.0\n",
    "max_value = 1.0\n",
    "\n",
    "def INPUTFORMAT():\n",
    "  global maps\n",
    "  \n",
    "  def RECORDREADER(split):\n",
    "    for value in split:\n",
    "        yield (value, None)\n",
    "      \n",
    "  split_size =  int(np.ceil(len(input_values)/maps))\n",
    "  for i in range(0, len(input_values), split_size):\n",
    "    yield RECORDREADER(input_values[i:i+split_size])\n",
    "    \n",
    "def MAP(value:int, _):\n",
    "  yield (value, None)\n",
    "  \n",
    "def PARTITIONER(key):\n",
    "  global reducers\n",
    "  global max_value\n",
    "  global min_value\n",
    "  bucket_size = (max_value-min_value)/reducers\n",
    "  bucket_id = 0\n",
    "  while((key>(bucket_id+1)*bucket_size) and ((bucket_id+1)*bucket_size<max_value)):\n",
    "    bucket_id += 1\n",
    "  return bucket_id\n",
    "\n",
    "def REDUCE(value:int, _):\n",
    "  yield (None,value)\n",
    "  \n",
    "partitioned_output = MapReduceDistributed(INPUTFORMAT, MAP, REDUCE, COMBINER=None, PARTITIONER=PARTITIONER)\n",
    "partitioned_output = [(partition_id, list(partition)) for (partition_id, partition) in partitioned_output]\n",
    "partitioned_output"
   ],
   "outputs": [
    {
     "name": "stdout",
     "output_type": "stream",
     "text": [
      "30 key-value pairs were sent over a network.\n"
     ]
    },
    {
     "data": {
      "text/plain": [
       "[(0,\n",
       "  [(None, np.float64(0.07478367368734973)),\n",
       "   (None, np.float64(0.11337306177959283)),\n",
       "   (None, np.float64(0.11662826676369475)),\n",
       "   (None, np.float64(0.11968667840103009)),\n",
       "   (None, np.float64(0.15038177472421244)),\n",
       "   (None, np.float64(0.24607903695813182)),\n",
       "   (None, np.float64(0.26913885281189054)),\n",
       "   (None, np.float64(0.3368293833024293)),\n",
       "   (None, np.float64(0.3610099933195998)),\n",
       "   (None, np.float64(0.3908962891705128)),\n",
       "   (None, np.float64(0.4270694002267995)),\n",
       "   (None, np.float64(0.4301817015929481)),\n",
       "   (None, np.float64(0.431075661588334)),\n",
       "   (None, np.float64(0.4445609092790369)),\n",
       "   (None, np.float64(0.4483134201929728)),\n",
       "   (None, np.float64(0.48066840474872097)),\n",
       "   (None, np.float64(0.491452396172673)),\n",
       "   (None, np.float64(0.4985938035088059)),\n",
       "   (None, np.float64(0.4991432228114192))]),\n",
       " (1,\n",
       "  [(None, np.float64(0.7367095656758074)),\n",
       "   (None, np.float64(0.7484499909924545)),\n",
       "   (None, np.float64(0.7569797952848971)),\n",
       "   (None, np.float64(0.7619052116070871)),\n",
       "   (None, np.float64(0.7968032015555981)),\n",
       "   (None, np.float64(0.8026937869740155)),\n",
       "   (None, np.float64(0.8261890146298992)),\n",
       "   (None, np.float64(0.8577994206221145)),\n",
       "   (None, np.float64(0.9121523011088503)),\n",
       "   (None, np.float64(0.9448720840108414)),\n",
       "   (None, np.float64(0.9662414674422899))])]"
      ]
     },
     "execution_count": 22,
     "metadata": {},
     "output_type": "execute_result"
    }
   ],
   "execution_count": 22
  },
  {
   "cell_type": "code",
   "metadata": {
    "id": "MQhoJaVZI93G",
    "ExecuteTime": {
     "end_time": "2025-03-03T17:58:14.453937Z",
     "start_time": "2025-03-03T17:58:14.445944Z"
    }
   },
   "source": [],
   "outputs": [],
   "execution_count": 22
  },
  {
   "cell_type": "markdown",
   "metadata": {
    "id": "Iy65YJTH99iT"
   },
   "source": [
    "# Упражнения\n",
    "Упражнения взяты из Rajaraman A., Ullman J. D. Mining of massive datasets. – Cambridge University Press, 2011.\n",
    "\n",
    "\n",
    "Для выполнения заданий переопределите функции RECORDREADER, MAP, REDUCE. Для модели распределённой системы может потребоваться переопределение функций PARTITION и COMBINER."
   ]
  },
  {
   "cell_type": "markdown",
   "metadata": {
    "id": "cfvAeZm3S8S8"
   },
   "source": [
    "### Максимальное значение ряда\n",
    "\n",
    "Разработайте MapReduce алгоритм, который находит максимальное число входного списка чисел."
   ]
  },
  {
   "cell_type": "code",
   "metadata": {
    "id": "3GRA1JR-Tkbg",
    "ExecuteTime": {
     "end_time": "2025-03-03T17:59:18.820865Z",
     "start_time": "2025-03-03T17:59:18.807865Z"
    }
   },
   "source": [
    "import numpy as np\n",
    "\n",
    "# Функция, которая генерирует пары (ключ, значение) из входных чисел\n",
    "def RECORDREADER():\n",
    "    for value in input_values:\n",
    "        yield None, value  # Используем постоянный ключ (None) для объединения значений\n",
    "        \n",
    "def MAP(_, value):\n",
    "    \"\"\"Сопоставляет каждое число с фиксированным ключом (None).\"\"\"\n",
    "    yield None, value\n",
    "\n",
    "def REDUCE(_, values):\n",
    "    \"\"\"Находит максимальное значение из списка чисел.\"\"\"\n",
    "    yield None, max(values)\n",
    "\n",
    "input_values = np.random.rand(30)\n",
    "max_value_output = list(MapReduce(RECORDREADER, MAP, REDUCE))\n",
    "print(max(input_values), max_value_output[0][1], max(input_values) == max_value_output[0][1])"
   ],
   "outputs": [
    {
     "name": "stdout",
     "output_type": "stream",
     "text": [
      "0.9961336836376687 0.9961336836376687 True\n"
     ]
    }
   ],
   "execution_count": 29
  },
  {
   "cell_type": "markdown",
   "metadata": {
    "id": "k86bXnqZTk-U"
   },
   "source": [
    "### Арифметическое среднее\n",
    "\n",
    "Разработайте MapReduce алгоритм, который находит арифметическое среднее.\n",
    "\n",
    "$$\\overline{X} = \\frac{1}{n}\\sum_{i=0}^{n} x_i$$\n"
   ]
  },
  {
   "cell_type": "code",
   "metadata": {
    "id": "MPoY5pkfUNZf"
   },
   "source": [
    "import numpy as np\n",
    "\n",
    "# Функция, которая генерирует пары (ключ, значение) из входных чисел\n",
    "def RECORDREADER():\n",
    "    for value in input_values:\n",
    "        yield None, value  # Используем постоянный ключ (None) для объединения значений\n",
    "        \n",
    "def MAP(_, value):\n",
    "    \"\"\"Сопоставляет каждое число с фиксированным ключом (None).\"\"\"\n",
    "    yield None, value\n",
    "\n",
    "def REDUCE(_, values):\n",
    "    \"\"\"Находит среднее значение из списка чисел.\"\"\"\n",
    "    yield None, sum(values)/len(values)\n",
    "\n",
    "input_values = np.random.rand(30)\n",
    "avg_value_output = list(MapReduce(RECORDREADER, MAP, REDUCE))\n",
    "print(np.average(input_values), max_value_output[0][1], np.average(input_values) == avg_value_output[0][1])"
   ],
   "outputs": [],
   "execution_count": null
  },
  {
   "cell_type": "markdown",
   "metadata": {
    "id": "xanzszhsIlLe"
   },
   "source": [
    "### GroupByKey на основе сортировки\n",
    "\n",
    "Реализуйте groupByKey на основе сортировки, проверьте его работу на примерах"
   ]
  },
  {
   "cell_type": "code",
   "metadata": {
    "id": "hQPn3USsIkEC",
    "ExecuteTime": {
     "end_time": "2025-03-03T18:12:23.347541Z",
     "start_time": "2025-03-03T18:12:23.330538Z"
    }
   },
   "source": [
    "def groupByKey(data_iterable):\n",
    "    \"\"\"\n",
    "    Группирует элементы (key, value) по ключу, используя сортировку.\n",
    "    \"\"\"\n",
    "    # Сортируем входные данные по ключу (первый элемент каждой пары)\n",
    "    sorted_data = sorted(data_iterable, key=lambda item: item[0])\n",
    "    \n",
    "    # Инициализируем список для хранения сгруппированных результатов\n",
    "    categorized_result = []\n",
    "\n",
    "    # Устанавливаем первый ключ и создаём пустую коллекцию для значений\n",
    "    current_identifier, current_collection = sorted_data[0][0], []\n",
    "    \n",
    "    # Проходим по отсортированным данным\n",
    "    for identifier, value in sorted_data:\n",
    "        # Если текущий ключ совпадает с предыдущим, добавляем значение в коллекцию\n",
    "        if identifier == current_identifier:\n",
    "            current_collection.append(value)  # Добавляем значение в текущую коллекцию\n",
    "        else:\n",
    "            # Если ключ изменился, сохраняем текущую коллекцию в результат\n",
    "            categorized_result.append((current_identifier, current_collection))\n",
    "            # Обновляем текущий ключ и начинаем новую коллекцию с новым значением\n",
    "            current_identifier, current_collection = identifier, [value]\n",
    "\n",
    "    # Добавляем последнюю коллекцию в результат после завершения цикла\n",
    "    categorized_result.append((current_identifier, current_collection))\n",
    "    \n",
    "    return categorized_result\n",
    "\n",
    "# Тестовый пример\n",
    "test_input = [\n",
    "    (\"a\", 1), (\"b\", 2), (\"c\", 3), (\"a\", 4), (\"b\", 5), (\"d\", 6)\n",
    "]\n",
    "\n",
    "output = groupByKey(test_input)\n",
    "output \n"
   ],
   "outputs": [
    {
     "data": {
      "text/plain": [
       "[('a', [1, 4]), ('b', [2, 5]), ('c', [3]), ('d', [6])]"
      ]
     },
     "execution_count": 32,
     "metadata": {},
     "output_type": "execute_result"
    }
   ],
   "execution_count": 32
  },
  {
   "cell_type": "markdown",
   "metadata": {
    "id": "5SgEjCZyGnu6"
   },
   "source": [
    "### Drop duplicates (set construction, unique elements, distinct)\n",
    "\n",
    "Реализуйте распределённую операцию исключения дубликатов"
   ]
  },
  {
   "cell_type": "code",
   "metadata": {
    "id": "okjbyApjGhMt",
    "ExecuteTime": {
     "end_time": "2025-03-03T18:21:00.085816Z",
     "start_time": "2025-03-03T18:21:00.072818Z"
    }
   },
   "source": [
    "def INPUT_FORMAT():\n",
    "    global num_maps\n",
    "    input_items = [\"python\", \"c++\", \"python\", \"java\", \"python\", \"golang\"]\n",
    "\n",
    "    def RECORD_READER(chunk):\n",
    "        for item in chunk:\n",
    "            yield item, None  # Формат (элемент, None)\n",
    "\n",
    "    chunk_size = max(1, len(input_items) // num_maps)\n",
    "    for i in range(0, len(input_items), chunk_size):\n",
    "        yield RECORD_READER(input_items[i:i + chunk_size])\n",
    "\n",
    "def MAP_FUNCTION(item, _):\n",
    "    yield item, None  # Просто передаем ключ, без значения\n",
    "\n",
    "def PARTITION_FUNCTION(key):\n",
    "    global num_reducers\n",
    "    return hash(key) % num_reducers  # Определяет, какой редьюсер будет обрабатывать ключ\n",
    "\n",
    "def REDUCE_FUNCTION(item, _):\n",
    "    yield item, None  # Возвращаем только одно значение\n",
    "\n",
    "num_maps = 2  # Число мапперов\n",
    "num_reducers = 2  # Число редьюсеров\n",
    "unique_items_output = MapReduceDistributed(INPUT_FORMAT, MAP_FUNCTION, REDUCE_FUNCTION, PARTITION_FUNCTION)\n",
    "\n",
    "unique_items_output = [item for (_, partition) in unique_items_output for (item, _) in partition]\n",
    "unique_items_output\n"
   ],
   "outputs": [
    {
     "name": "stdout",
     "output_type": "stream",
     "text": [
      "6 key-value pairs were sent over a network.\n"
     ]
    },
    {
     "data": {
      "text/plain": [
       "['java', 'c++', 'golang', 'python']"
      ]
     },
     "execution_count": 41,
     "metadata": {},
     "output_type": "execute_result"
    }
   ],
   "execution_count": 41
  },
  {
   "cell_type": "markdown",
   "metadata": {
    "id": "e7sRGoTXuJze"
   },
   "source": [
    "#Операторы реляционной алгебры\n",
    "### Selection (Выборка)\n",
    "\n",
    "**The Map Function**: Для  каждого кортежа $t \\in R$ вычисляется истинность предиката $C$. В случае истины создаётся пара ключ-значение $(t, t)$. В паре ключ и значение одинаковы, равны $t$.\n",
    "\n",
    "**The Reduce Function:** Роль функции Reduce выполняет функция идентичности, которая возвращает то же значение, что получила на вход.\n",
    "\n"
   ]
  },
  {
   "cell_type": "code",
   "metadata": {
    "id": "4nKIKe59uIfc",
    "ExecuteTime": {
     "end_time": "2025-03-03T18:24:20.629211Z",
     "start_time": "2025-03-03T18:24:20.617211Z"
    }
   },
   "source": [
    "def C(pair):\n",
    "    \"\"\"Предикат: проверяет, делится ли сумма элементов кортежа на 2 без остатка.\"\"\"\n",
    "    return (pair[0] + pair[1]) % 2 == 0\n",
    "\n",
    "def RECORDREADER():\n",
    "    \"\"\"Генерирует кортежи из набора данных.\"\"\"\n",
    "    data_set = [(0, 5), (2, 2), (1, 11)]\n",
    "    for pair in data_set:\n",
    "        yield pair, None  # Постоянный ключ для обработки MapReduce\n",
    "\n",
    "def MAP(pair, _):\n",
    "    \"\"\"Применяет предикат к каждому элементу и передаёт в Reduce, если условие выполняется.\"\"\"\n",
    "    if C(pair):\n",
    "        yield pair, pair  # Ключ и значение совпадают с отобранным элементом\n",
    "\n",
    "def REDUCE(_, values):\n",
    "    \"\"\"Функция тождественности — возвращает полученные значения.\"\"\"\n",
    "    yield from values\n",
    "\n",
    "result = list(MapReduce(RECORDREADER, MAP, REDUCE))\n",
    "result\n"
   ],
   "outputs": [
    {
     "data": {
      "text/plain": [
       "[(2, 2), (1, 11)]"
      ]
     },
     "execution_count": 44,
     "metadata": {},
     "output_type": "execute_result"
    }
   ],
   "execution_count": 44
  },
  {
   "cell_type": "markdown",
   "metadata": {
    "id": "w27Ca-_Ku85V"
   },
   "source": [
    "### Projection (Проекция)\n",
    "\n",
    "Проекция на множество атрибутов $S$.\n",
    "\n",
    "**The Map Function:** Для каждого кортежа $t \\in R$ создайте кортеж $t′$, исключая  из $t$ те значения, атрибуты которых не принадлежат  $S$. Верните пару $(t′, t′)$.\n",
    "\n",
    "**The Reduce Function:** Для каждого ключа $t′$, созданного любой Map задачей, вы получаете одну или несколько пар $(t′, t′)$. Reduce функция преобразует $(t′, [t′, t′, . . . , t′])$ в $(t′, t′)$, так, что для ключа $t′$ возвращается одна пара  $(t′, t′)$."
   ]
  },
  {
   "cell_type": "code",
   "metadata": {
    "id": "BEvuY4GqvhS6",
    "ExecuteTime": {
     "end_time": "2025-03-03T18:31:22.566143Z",
     "start_time": "2025-03-03T18:31:22.547154Z"
    }
   },
   "source": [
    "def MAP_PROJECTION(_, entry: dict):\n",
    "    \"\"\"\n",
    "    Функция MAP_PROJECTION обрабатывает каждую запись и проверяет значение поля 'gender'.\n",
    "    Если значение 'gender' равно 'male' или 'female', запись остается без изменений.\n",
    "    В противном случае поле 'gender' удаляется из записи.\n",
    "    \"\"\"\n",
    "    GENDER_VALUES = [\"male\", \"female\"]\n",
    "    if entry[\"gender\"] in GENDER_VALUES:\n",
    "        yield entry[\"id\"], entry\n",
    "    else:\n",
    "        # Удаляем поле gender из полученного словаря\n",
    "        updated_entry = entry.copy()\n",
    "        del updated_entry[\"gender\"]\n",
    "        yield updated_entry[\"id\"], updated_entry\n",
    "\n",
    "def REDUCE_PROJECTION(key: str, entries: Iterator[NamedTuple]):\n",
    "    \"\"\"\n",
    "    Функция REDUCE_PROJECTION объединяет все записи с одинаковым ключом.\n",
    "    Она принимает ключ и итератор записей, и возвращает ключ и итератор записей.\n",
    "    \"\"\"\n",
    "    yield (key, entries)\n",
    "\n",
    "def RECORDREADER():\n",
    "    \"\"\"\n",
    "    Функция RECORDREADER генерирует пары (id, запись) из входного набора данных.\n",
    "    \"\"\"\n",
    "    return [(user[\"id\"], user) for user in input_collection]\n",
    "\n",
    "# Пример входного набора данных\n",
    "input_collection = [\n",
    "    dict(id=0, age=54, gender=\"male\", social_contacts=20),\n",
    "    dict(id=0, age=25, gender=\"female\", social_contacts=240),\n",
    "    dict(id=1, age=27, gender=\"undefined\", social_contacts=642),\n",
    "    dict(id=2, age=16, gender=\"male\", social_contacts=123),\n",
    "    dict(id=2, age=35, gender=\"undefined\", social_contacts=247),\n",
    "    dict(id=3, age=31, gender=\"male\", social_contacts=521),\n",
    "    dict(id=3, age=32, gender=\"female\", social_contacts=753),\n",
    "]\n",
    "\n",
    "# Выполнение MapReduce и получение результата\n",
    "output = MapReduce(RECORDREADER, MAP_PROJECTION, REDUCE_PROJECTION)\n",
    "output = list(output)\n",
    "output\n"
   ],
   "outputs": [
    {
     "data": {
      "text/plain": [
       "[(0,\n",
       "  [{'id': 0, 'age': 54, 'gender': 'male', 'social_contacts': 20},\n",
       "   {'id': 0, 'age': 25, 'gender': 'female', 'social_contacts': 240}]),\n",
       " (1, [{'id': 1, 'age': 27, 'social_contacts': 642}]),\n",
       " (2,\n",
       "  [{'id': 2, 'age': 16, 'gender': 'male', 'social_contacts': 123},\n",
       "   {'id': 2, 'age': 35, 'social_contacts': 247}]),\n",
       " (3,\n",
       "  [{'id': 3, 'age': 31, 'gender': 'male', 'social_contacts': 521},\n",
       "   {'id': 3, 'age': 32, 'gender': 'female', 'social_contacts': 753}])]"
      ]
     },
     "execution_count": 45,
     "metadata": {},
     "output_type": "execute_result"
    }
   ],
   "execution_count": 45
  },
  {
   "cell_type": "markdown",
   "metadata": {
    "id": "7gau6lKXvn2R"
   },
   "source": [
    "### Union (Объединение)\n",
    "\n",
    "**The Map Function:** Превратите каждый входной кортеж $t$ в пару ключ-значение $(t, t)$.\n",
    "\n",
    "**The Reduce Function:** С каждым ключом $t$ будет ассоциировано одно или два значений. В обоих случаях создайте $(t, t)$ в качестве выходного значения."
   ]
  },
  {
   "cell_type": "code",
   "metadata": {
    "id": "Sns7a5agv3nw",
    "ExecuteTime": {
     "end_time": "2025-03-03T18:37:41.048004Z",
     "start_time": "2025-03-03T18:37:41.034998Z"
    }
   },
   "source": [
    "# Группировка пользователей по идентификатору\n",
    "def MAP_UNION(_, record: NamedTuple):\n",
    "    yield (record.id, record)\n",
    "\n",
    "# Выходное значение равно (record, record) независимо от присутствия пользователя в только одной или обеих выборках\n",
    "def REDUCE_UNION(key: str, records: Iterator[NamedTuple]):\n",
    "    yield (records[0], records[0])\n",
    "\n",
    "def RECORDREADER():\n",
    "    return [(user.id, user) for user in input_collection_a + input_collection_b]\n",
    "\n",
    "\n",
    "\n",
    "input_collection_a = [\n",
    "    User(id=1, age=54, gender=\"male\", social_contacts=20),\n",
    "    User(id=2, age=25, gender=\"female\", social_contacts=240),\n",
    "    User(id=3, age=27, gender=\"male\", social_contacts=642),\n",
    "    User(id=4, age=16, gender=\"male\", social_contacts=123),\n",
    "    User(id=5, age=35, gender=\"female\", social_contacts=247),\n",
    "]\n",
    "\n",
    "input_collection_b = [\n",
    "    User(id=5, age=35, gender=\"female\", social_contacts=247),\n",
    "    User(id=6, age=31, gender=\"male\", social_contacts=521),\n",
    "    User(id=7, age=32, gender=\"female\", social_contacts=753),\n",
    "]\n",
    "\n",
    "output = MapReduce(RECORDREADER, MAP_UNION, REDUCE_UNION)\n",
    "output = list(output)\n",
    "output"
   ],
   "outputs": [
    {
     "data": {
      "text/plain": [
       "[(User(id=1, age=54, social_contacts=20, gender='male'),\n",
       "  User(id=1, age=54, social_contacts=20, gender='male')),\n",
       " (User(id=2, age=25, social_contacts=240, gender='female'),\n",
       "  User(id=2, age=25, social_contacts=240, gender='female')),\n",
       " (User(id=3, age=27, social_contacts=642, gender='male'),\n",
       "  User(id=3, age=27, social_contacts=642, gender='male')),\n",
       " (User(id=4, age=16, social_contacts=123, gender='male'),\n",
       "  User(id=4, age=16, social_contacts=123, gender='male')),\n",
       " (User(id=5, age=35, social_contacts=247, gender='female'),\n",
       "  User(id=5, age=35, social_contacts=247, gender='female')),\n",
       " (User(id=6, age=31, social_contacts=521, gender='male'),\n",
       "  User(id=6, age=31, social_contacts=521, gender='male')),\n",
       " (User(id=7, age=32, social_contacts=753, gender='female'),\n",
       "  User(id=7, age=32, social_contacts=753, gender='female'))]"
      ]
     },
     "execution_count": 49,
     "metadata": {},
     "output_type": "execute_result"
    }
   ],
   "execution_count": 49
  },
  {
   "cell_type": "markdown",
   "metadata": {
    "id": "dQ8TuEbjv4J8"
   },
   "source": [
    "### Intersection (Пересечение)\n",
    "\n",
    "**The Map Function:** Превратите каждый кортеж $t$ в пары ключ-значение $(t, t)$.\n",
    "\n",
    "**The Reduce Function:** Если для ключа $t$ есть список из двух элементов $[t, t]$ $-$ создайте пару $(t, t)$. Иначе, ничего не создавайте."
   ]
  },
  {
   "cell_type": "code",
   "metadata": {
    "id": "XKlBZh4IwERR",
    "ExecuteTime": {
     "end_time": "2025-03-03T18:43:39.878662Z",
     "start_time": "2025-03-03T18:43:39.866287Z"
    }
   },
   "source": [
    "# Группировка по пользователям\n",
    "def MAP_INTERSECTION(_, record: NamedTuple):\n",
    "    yield (record.id, record)\n",
    "\n",
    "# Возвращает пользователя, только если он присутствует в обоих выборках\n",
    "def REDUCE_INTERSECTION(user_id: int, records: Iterator[NamedTuple]):\n",
    "    if len(records) == 2:\n",
    "        yield records\n",
    "\n",
    "def RECORDREADER():\n",
    "    return [(user.id, user) for user in input_collection_a + input_collection_b]\n",
    "\n",
    "output = MapReduce(RECORDREADER, MAP_INTERSECTION, REDUCE_INTERSECTION)\n",
    "output = list(output)\n",
    "output\n"
   ],
   "outputs": [
    {
     "data": {
      "text/plain": [
       "[[User(id=5, age=35, social_contacts=247, gender='female'),\n",
       "  User(id=5, age=35, social_contacts=247, gender='female')]]"
      ]
     },
     "execution_count": 51,
     "metadata": {},
     "output_type": "execute_result"
    }
   ],
   "execution_count": 51
  },
  {
   "cell_type": "markdown",
   "metadata": {
    "id": "AVOpqoY3wE5k"
   },
   "source": [
    "### Difference (Разница)\n",
    "\n",
    "**The Map Function:** Для кортежа $t \\in R$, создайте пару $(t, R)$, и для кортежа $t \\in S$, создайте пару $(t, S)$. Задумка заключается в том, чтобы значение пары было именем отношения $R$ or $S$, которому принадлежит кортеж (а лучше, единичный бит, по которому можно два отношения различить $R$ or $S$), а не весь набор атрибутов отношения.\n",
    "\n",
    "**The Reduce Function:** Для каждого ключа $t$, если соответствующее значение является списком $[R]$, создайте пару $(t, t)$. В иных случаях не предпринимайте действий."
   ]
  },
  {
   "cell_type": "code",
   "metadata": {
    "id": "QE_AC09lwZIZ",
    "ExecuteTime": {
     "end_time": "2025-03-03T18:45:35.658893Z",
     "start_time": "2025-03-03T18:45:35.645278Z"
    }
   },
   "source": [
    "# Группировка по пользователям\n",
    "def MAP_DIFFERENCE(collection_id, user):\n",
    "    yield user, collection_id\n",
    "\n",
    "# Возвращает пользователей, входящих только в первую выборку (и не входящих во вторую)\n",
    "def REDUCE_DIFFERENCE(user, collection_ids):\n",
    "    if collection_ids == [0]:\n",
    "        yield user\n",
    "\n",
    "# На первом месте стоит номер выборки\n",
    "def RECORDREADER():\n",
    "    return [(0, item) for item in input_collection_a] + [(1, item) for item in input_collection_b]\n",
    "\n",
    "output = MapReduce(RECORDREADER, MAP_DIFFERENCE, REDUCE_DIFFERENCE)\n",
    "output = list(output)\n",
    "output\n"
   ],
   "outputs": [
    {
     "data": {
      "text/plain": [
       "[User(id=1, age=54, social_contacts=20, gender='male'),\n",
       " User(id=2, age=25, social_contacts=240, gender='female'),\n",
       " User(id=3, age=27, social_contacts=642, gender='male'),\n",
       " User(id=4, age=16, social_contacts=123, gender='male')]"
      ]
     },
     "execution_count": 55,
     "metadata": {},
     "output_type": "execute_result"
    }
   ],
   "execution_count": 55
  },
  {
   "cell_type": "markdown",
   "metadata": {
    "id": "j8I58V2VwhSm"
   },
   "source": [
    "### Natural Join\n",
    "\n",
    "**The Map Function:** Для каждого кортежа $(a, b)$ отношения $R$, создайте пару $(b,(R, a))$. Для каждого кортежа $(b, c)$ отношения $S$, создайте пару $(b,(S, c))$.\n",
    "\n",
    "**The Reduce Function:** Каждый ключ $b$ будет асоциирован со списком пар, которые принимают форму либо $(R, a)$, либо $(S, c)$. Создайте все пары, одни, состоящие из  первого компонента $R$, а другие, из первого компонента $S$, то есть $(R, a)$ и $(S, c)$. На выходе вы получаете последовательность пар ключ-значение из списков ключей и значений. Ключ не нужен. Каждое значение, это тройка $(a, b, c)$ такая, что $(R, a)$ и $(S, c)$ это принадлежат входному списку значений."
   ]
  },
  {
   "cell_type": "code",
   "metadata": {
    "id": "yHiuuTctw86I",
    "ExecuteTime": {
     "end_time": "2025-03-03T18:49:02.113529Z",
     "start_time": "2025-03-03T18:49:02.096534Z"
    }
   },
   "source": [
    "def MAP(entry, dataset):\n",
    "    \"\"\"Формирует пары (key, (источник, значение)) для дальнейшего соединения.\"\"\"\n",
    "    if dataset == \"R\":\n",
    "        first, key = entry\n",
    "        yield (key, (\"R\", first))\n",
    "    elif dataset == \"S\":\n",
    "        key, second = entry\n",
    "        yield (key, (\"S\", second))\n",
    "\n",
    "def REDUCE(key, entries):\n",
    "    \"\"\"Создает пары (first, key, second) для каждого подходящего соединения.\"\"\"\n",
    "    r_entries = [first for src, first in entries if src == \"R\"]\n",
    "    s_entries = [second for src, second in entries if src == \"S\"]\n",
    "\n",
    "    for first in r_entries:\n",
    "        for second in s_entries:\n",
    "            yield (first, key, second)  # Оставляем key для наглядности\n",
    "\n",
    "def RECORDREADER():\n",
    "    \"\"\"Данные для соединения: R(first, key) и S(key, second).\"\"\"\n",
    "    dataset_R = [(\"A\", 1), (\"B\", 2), (\"C\", 3)]  # (first, key)\n",
    "    dataset_S = [(1, \"apple\"), (2, \"banana\"), (3, \"cherry\")]  # (key, second)\n",
    "    return [(r, \"R\") for r in dataset_R] + [(s, \"S\") for s in dataset_S]\n",
    "\n",
    "result = list(MapReduce(RECORDREADER, MAP, REDUCE))\n",
    "result\n"
   ],
   "outputs": [
    {
     "data": {
      "text/plain": [
       "[('A', 1, 'apple'), ('B', 2, 'banana'), ('C', 3, 'cherry')]"
      ]
     },
     "execution_count": 59,
     "metadata": {},
     "output_type": "execute_result"
    }
   ],
   "execution_count": 59
  },
  {
   "cell_type": "markdown",
   "metadata": {
    "id": "kYdlr0YUxE27"
   },
   "source": [
    "### Grouping and Aggregation (Группировка и аггрегация)\n",
    "\n",
    "**The Map Function:** Для каждого кортежа $(a, b, c$) создайте пару $(a, b)$.\n",
    "\n",
    "**The Reduce Function:** Ключ представляет ту или иную группу. Примение аггрегирующую операцию $\\theta$ к списку значений $[b1, b2, . . . , bn]$ ассоциированных с ключом $a$. Возвращайте в выходной поток $(a, x)$, где $x$ результат применения  $\\theta$ к списку. Например, если $\\theta$ это $SUM$, тогда $x = b1 + b2 + · · · + bn$, а если $\\theta$ is $MAX$, тогда $x$ это максимальное из значений $b1, b2, . . . , bn$."
   ]
  },
  {
   "cell_type": "code",
   "metadata": {
    "id": "MLPckfEGxico",
    "ExecuteTime": {
     "end_time": "2025-03-03T18:50:00.754887Z",
     "start_time": "2025-03-03T18:50:00.741896Z"
    }
   },
   "source": [
    "from collections import defaultdict\n",
    "from typing import Callable, List, Tuple\n",
    "\n",
    "def MAP(key, value, label):\n",
    "    \"\"\"Формируем (ключ, значение для агрегации).\"\"\"\n",
    "    yield (key, value)\n",
    "\n",
    "def REDUCE(key, values, aggregation_function: Callable[[List[int]], int]):\n",
    "    \"\"\"Применяем агрегирующую функцию и выдаем (ключ, агрегированное значение).\"\"\"\n",
    "    yield (key, aggregation_function(values))\n",
    "\n",
    "def RECORDREADER():\n",
    "    \"\"\"Пример данных (ключ, значение, метка).\"\"\"\n",
    "    return [(1, 10, \"x\"), (2, 20, \"y\"), (1, 15, \"z\"), (2, 25, \"w\"), (3, 30, \"v\")]\n",
    "\n",
    "def shuffle_phase(mapped_data: List[Tuple[int, int]]) -> dict:\n",
    "    \"\"\"Группируем значения по ключу.\"\"\"\n",
    "    grouped_data = defaultdict(list)\n",
    "    for key, value in mapped_data:\n",
    "        grouped_data[key].append(value)\n",
    "    return grouped_data\n",
    "\n",
    "def MapReduce(recordreader, map_func, reduce_func, aggregation_function):\n",
    "    \"\"\"Общая MapReduce логика.\"\"\"\n",
    "    records = recordreader()\n",
    "\n",
    "    # MAP\n",
    "    mapped_data = []\n",
    "    for record in records:\n",
    "        mapped_data.extend(map_func(*record))  # Распаковываем кортежи\n",
    "\n",
    "    # SHUFFLE\n",
    "    grouped_data = shuffle_phase(mapped_data)\n",
    "\n",
    "    # REDUCE\n",
    "    reduced_data = []\n",
    "    for key, values in grouped_data.items():\n",
    "        reduced_data.extend(reduce_func(key, values, aggregation_function))\n",
    "\n",
    "    return reduced_data\n",
    "\n",
    "# Используем SUM\n",
    "print(\"SUM Aggregation:\", MapReduce(RECORDREADER, MAP, REDUCE, sum))\n",
    "\n",
    "# Используем MAX\n",
    "print(\"MAX Aggregation:\", MapReduce(RECORDREADER, MAP, REDUCE, max))\n"
   ],
   "outputs": [
    {
     "name": "stdout",
     "output_type": "stream",
     "text": [
      "SUM Aggregation: [(1, 25), (2, 45), (3, 30)]\n",
      "MAX Aggregation: [(1, 15), (2, 25), (3, 30)]\n"
     ]
    }
   ],
   "execution_count": 60
  },
  {
   "cell_type": "markdown",
   "metadata": {
    "id": "03IffTEOJgOb"
   },
   "source": [
    "# "
   ]
  },
  {
   "cell_type": "markdown",
   "metadata": {
    "id": "IIrRgvG4RIS4"
   },
   "source": [
    "### Matrix-Vector multiplication\n",
    "\n",
    "Случай, когда вектор не помещается в памяти Map задачи\n"
   ]
  },
  {
   "cell_type": "code",
   "metadata": {
    "id": "KQhDbiL3zS9r",
    "ExecuteTime": {
     "end_time": "2025-03-03T18:50:50.706271Z",
     "start_time": "2025-03-03T18:50:50.678161Z"
    }
   },
   "source": [
    "from typing import List, Tuple, Dict, NamedTuple\n",
    "from collections import defaultdict\n",
    "\n",
    "NUM_REDUCERS = 2  # Количество редукторов\n",
    "CHUNK_SIZE = 2  # Размер чанка вектора\n",
    "\n",
    "# Функция отображения для матрицы\n",
    "def map_matrix_entry(entry: NamedTuple) -> Tuple[int, Tuple[str, NamedTuple]]:\n",
    "    return entry.col % NUM_REDUCERS, ('M', entry)\n",
    "\n",
    "# Функция отображения для вектора (разбитого на чанки)\n",
    "def map_vector_chunk(chunk: List[NamedTuple]) -> List[Tuple[int, Tuple[str, NamedTuple]]]:\n",
    "    return [(el.index % NUM_REDUCERS, ('V', el)) for el in chunk]\n",
    "\n",
    "# Функция редукции (умножение части матрицы на соответствующую часть вектора)\n",
    "def reduce_partial(reducer_id: int, entries: List[Tuple[str, NamedTuple]]) -> List[Tuple[int, float]]:\n",
    "    matrix_rows, vector_elements = [], []\n",
    "    for tag, record in entries:\n",
    "        (matrix_rows if tag == 'M' else vector_elements).append(record)\n",
    "\n",
    "    return [(row.row, row.value * el.value) for row in matrix_rows for el in vector_elements if row.col == el.index]\n",
    "\n",
    "# Функция группировки значений по редукторам\n",
    "def shuffle(mapped_data: List[Tuple[int, Tuple[str, NamedTuple]]]) -> Dict[int, List[Tuple[str, NamedTuple]]]:\n",
    "    grouped = defaultdict(list)\n",
    "    for reducer_id, pair in mapped_data:\n",
    "        grouped[reducer_id].append(pair)\n",
    "    return grouped\n",
    "\n",
    "# Функция финальной агрегации (складывает частичные произведения)\n",
    "def aggregate(partial_results: List[Tuple[int, float]]) -> Dict[int, float]:\n",
    "    result = defaultdict(float)\n",
    "    for row, value in partial_results:\n",
    "        result[row] += value\n",
    "    return result\n",
    "\n",
    "# Чтение данных из матрицы\n",
    "def read_matrix_data(matrix: List[NamedTuple]) -> List[Tuple[str, NamedTuple]]:\n",
    "    return [('M', row) for row in matrix]\n",
    "\n",
    "# Разбиение вектора на чанки\n",
    "def read_vector_data(vector: List[NamedTuple]) -> List[List[NamedTuple]]:\n",
    "    return [vector[i:i + CHUNK_SIZE] for i in range(0, len(vector), CHUNK_SIZE)]\n",
    "\n",
    "# Основная функция MapReduce\n",
    "def map_reduce(matrix, vector):\n",
    "    mapped_matrix = [map_matrix_entry(row) for _, row in read_matrix_data(matrix)]\n",
    "    mapped_vector = [pair for chunk in read_vector_data(vector) for pair in map_vector_chunk(chunk)]\n",
    "    grouped = shuffle(mapped_matrix + mapped_vector)\n",
    "    partial_results = [res for rid, vals in grouped.items() for res in reduce_partial(rid, vals)]\n",
    "    return aggregate(partial_results)\n",
    "\n",
    "from collections import namedtuple\n",
    "MatrixRow = namedtuple('MatrixRow', ['row', 'col', 'value'])\n",
    "VectorElement = namedtuple('VectorElement', ['index', 'value'])\n",
    "\n",
    "matrix = [MatrixRow(0, 0, 1.0), MatrixRow(0, 1, 2.0), MatrixRow(1, 0, 3.0), MatrixRow(1, 1, 4.0)]\n",
    "vector = [VectorElement(0, 0.5), VectorElement(1, 0.7)]\n",
    "\n",
    "result = map_reduce(matrix, vector)\n",
    "result\n"
   ],
   "outputs": [
    {
     "data": {
      "text/plain": [
       "defaultdict(float, {0: 1.9, 1: 4.3})"
      ]
     },
     "execution_count": 61,
     "metadata": {},
     "output_type": "execute_result"
    }
   ],
   "execution_count": 61
  },
  {
   "cell_type": "markdown",
   "metadata": {
    "id": "GIo2t7nNxvA9"
   },
   "source": [
    "## Matrix multiplication (Перемножение матриц)\n",
    "\n",
    "Если у нас есть матрица $M$ с элементами $m_{ij}$ в строке $i$ и столбце $j$, и матрица $N$ с элементами $n_{jk}$ в строке $j$ и столбце $k$, тогда их произведение $P = MN$ есть матрица $P$ с элементами $p_{ik}$ в строке $i$ и столбце $k$, где\n",
    "\n",
    "$$p_{ik} =\\sum_{j} m_{ij}n_{jk}$$\n",
    "\n",
    "Необходимым требованием является одинаковое количество столбцов в $M$ и строк в $N$, чтобы операция суммирования по  $j$ была осмысленной. Мы можем размышлять о матрице, как об отношении с тремя атрибутами: номер строки, номер столбца, само значение. Таким образом матрица $M$ предстваляется как отношение $ M(I, J, V )$, с кортежами $(i, j, m_{ij})$, и, аналогично, матрица $N$ представляется как отношение $N(J, K, W)$, с кортежами $(j, k, n_{jk})$. Так как большие матрицы как правило разреженные (большинство значений равно 0), и так как мы можем нулевыми значениями пренебречь (не хранить), такое реляционное представление достаточно эффективно для больших матриц. Однако, возможно, что координаты $i$, $j$, и $k$ неявно закодированы в смещение позиции элемента относительно начала файла, вместо явного хранения. Тогда, функция Map (или Reader) должна быть разработана таким образом, чтобы реконструировать компоненты $I$, $J$, и $K$ кортежей из смещения.\n",
    "\n",
    "Произведение $MN$ это фактически join, за которым следуют группировка по ключу и аггрегация. Таким образом join отношений $M(I, J, V )$ и $N(J, K, W)$, имеющих общим только атрибут $J$, создаст кортежи $(i, j, k, v, w)$ из каждого кортежа $(i, j, v) \\in M$ и кортежа $(j, k, w) \\in N$. Такой 5 компонентный кортеж представляет пару элементов матрицы $(m_{ij} , n_{jk})$. Что нам хотелось бы получить на самом деле, это произведение этих элементов, то есть, 4 компонентный кортеж$(i, j, k, v \\times w)$, так как он представляет произведение $m_{ij}n_{jk}$. Мы представляем отношение как результат одной MapReduce операции, в которой мы можем произвести группировку и аггрегацию, с $I$ и $K$  атрибутами, по которым идёт группировка, и суммой  $V \\times W$. \n",
    "\n",
    "\n",
    "\n"
   ]
  },
  {
   "cell_type": "code",
   "metadata": {
    "id": "1MBkGaLAYVCt",
    "ExecuteTime": {
     "end_time": "2025-03-03T17:58:15.433940Z",
     "start_time": "2025-03-03T17:58:15.419935Z"
    }
   },
   "source": [
    "# MapReduce model\n",
    "def flatten(nested_iterable):\n",
    "  for iterable in nested_iterable:\n",
    "    for element in iterable:\n",
    "      yield element\n",
    "\n",
    "def groupbykey(iterable):\n",
    "  t = {}\n",
    "  for (k2, v2) in iterable:\n",
    "    t[k2] = t.get(k2, []) + [v2]\n",
    "  return t.items()\n",
    "\n",
    "def MapReduce(RECORDREADER, MAP, REDUCE):\n",
    "  return flatten(map(lambda x: REDUCE(*x), groupbykey(flatten(map(lambda x: MAP(*x), RECORDREADER())))))"
   ],
   "outputs": [],
   "execution_count": 24
  },
  {
   "cell_type": "markdown",
   "metadata": {
    "id": "sMspsOT0ZB35"
   },
   "source": [
    "Реализуйте перемножение матриц с использованием модельного кода MapReduce для одной машины в случае, когда одна матрица хранится в памяти, а другая генерируется RECORDREADER-ом."
   ]
  },
  {
   "cell_type": "code",
   "metadata": {
    "id": "psP1XekbsEjS",
    "ExecuteTime": {
     "end_time": "2025-03-03T18:53:36.148025Z",
     "start_time": "2025-03-03T18:53:36.134024Z"
    }
   },
   "source": [
    "import numpy as np\n",
    "\n",
    "I = 2\n",
    "J = 3\n",
    "K = 4 * 10\n",
    "small_mat = np.random.rand(I, J)  # it is legal to access this from RECORDREADER, MAP, REDUCE\n",
    "big_mat = np.random.rand(J, K)\n",
    "\n",
    "def RECORDREADER():\n",
    "    for j in range(big_mat.shape[0]):\n",
    "        for k in range(big_mat.shape[1]):\n",
    "            yield ((j, k), big_mat[j, k])\n",
    "\n",
    "def MAP(k1, v1):\n",
    "    (j, k) = k1\n",
    "    w = v1\n",
    "    for i in range(small_mat.shape[0]):\n",
    "        yield ((i, k), (i, j, w * small_mat[i, j]))\n",
    "\n",
    "def REDUCE(key, values):\n",
    "    (i, k) = key\n",
    "    result = 0\n",
    "    for _, j, value in values:\n",
    "        result += value\n",
    "    yield (i, k), result\n",
    "\n",
    "# Функция для выполнения MapReduce\n",
    "def MapReduce(recordreader, map_func, reduce_func):\n",
    "    records = list(recordreader())\n",
    "\n",
    "    # MAP\n",
    "    mapped_data = []\n",
    "    for record in records:\n",
    "        mapped_data.extend(map_func(*record))\n",
    "\n",
    "    # SHUFFLE\n",
    "    grouped_data = {}\n",
    "    for key, value in mapped_data:\n",
    "        if key not in grouped_data:\n",
    "            grouped_data[key] = []\n",
    "        grouped_data[key].append(value)\n",
    "\n",
    "    # REDUCE\n",
    "    reduced_data = []\n",
    "    for key, values in grouped_data.items():\n",
    "        reduced_data.extend(reduce_func(key, values))\n",
    "\n",
    "    return reduced_data\n",
    "\n",
    "# Выполнение MapReduce\n",
    "result = MapReduce(RECORDREADER, MAP, REDUCE)\n",
    "\n",
    "# Преобразование результата в матрицу\n",
    "result_matrix = np.zeros((I, K))\n",
    "for (i, k), value in result:\n",
    "    result_matrix[i, k] = value\n",
    "\n",
    "result_matrix\n"
   ],
   "outputs": [
    {
     "data": {
      "text/plain": [
       "array([[0.5940656 , 0.57632383, 0.50068662, 0.3426824 , 0.75168325,\n",
       "        0.59942184, 0.52126286, 0.65537871, 0.18481584, 0.47900151,\n",
       "        0.63625734, 0.20758939, 0.73523918, 0.49225662, 0.85961744,\n",
       "        0.32702271, 0.41265735, 0.51255185, 0.72744043, 0.77811964,\n",
       "        0.05283796, 0.52122633, 0.7111616 , 0.44984309, 0.79228152,\n",
       "        0.3112578 , 0.65097884, 0.76759501, 0.58286752, 0.77463723,\n",
       "        0.47266747, 0.41849302, 0.27038973, 0.39651717, 0.59805269,\n",
       "        0.35577872, 0.45099572, 0.43988042, 0.82004321, 0.90524963],\n",
       "       [0.74171739, 0.83605232, 0.94003194, 0.42815025, 0.87091488,\n",
       "        0.93863732, 0.88171698, 1.00882715, 0.51234033, 0.74928723,\n",
       "        0.67774889, 0.38941465, 0.98955846, 0.75096482, 1.24327464,\n",
       "        0.37521098, 0.66811013, 0.78961761, 1.23110604, 0.99082748,\n",
       "        0.06539738, 0.96943347, 0.96228172, 0.74689559, 1.15969713,\n",
       "        0.73740873, 0.92989213, 0.9109635 , 0.61349345, 0.96117657,\n",
       "        0.70722263, 0.60201752, 0.45718379, 0.58901842, 0.68730865,\n",
       "        0.60409404, 0.53526734, 0.82829181, 1.24967739, 1.32391693]])"
      ]
     },
     "execution_count": 63,
     "metadata": {},
     "output_type": "execute_result"
    }
   ],
   "execution_count": 63
  },
  {
   "cell_type": "markdown",
   "metadata": {
    "id": "rnt306LHhHrm"
   },
   "source": [
    "Проверьте своё решение"
   ]
  },
  {
   "cell_type": "code",
   "metadata": {
    "id": "Ewy_ZNYqW5a2",
    "colab": {
     "base_uri": "https://localhost:8080/",
     "height": 34
    },
    "outputId": "9ce264f2-9412-44e2-9b0a-cc780573ab3a",
    "ExecuteTime": {
     "end_time": "2025-03-03T18:53:51.922979Z",
     "start_time": "2025-03-03T18:53:51.908340Z"
    }
   },
   "source": [
    "# CHECK THE SOLUTION\n",
    "reference_solution = np.matmul(small_mat, big_mat) \n",
    "solution = MapReduce(RECORDREADER, MAP, REDUCE)\n",
    "\n",
    "def asmatrix(reduce_output):\n",
    "  reduce_output = list(reduce_output)\n",
    "  I = max(i for ((i,k), vw) in reduce_output)+1\n",
    "  K = max(k for ((i,k), vw) in reduce_output)+1\n",
    "  mat = np.empty(shape=(I,K))\n",
    "  for ((i,k), vw) in reduce_output:\n",
    "    mat[i,k] = vw\n",
    "  return mat\n",
    "\n",
    "np.allclose(reference_solution, asmatrix(solution)) # should return true"
   ],
   "outputs": [
    {
     "data": {
      "text/plain": [
       "True"
      ]
     },
     "execution_count": 64,
     "metadata": {},
     "output_type": "execute_result"
    }
   ],
   "execution_count": 64
  },
  {
   "cell_type": "code",
   "metadata": {
    "id": "TK7v4CEcfxqf",
    "colab": {
     "base_uri": "https://localhost:8080/",
     "height": 34
    },
    "outputId": "2c865d0a-4065-4e6b-c83f-5508ed5eb4fa",
    "ExecuteTime": {
     "end_time": "2025-03-03T18:53:56.240894Z",
     "start_time": "2025-03-03T18:53:56.226844Z"
    }
   },
   "source": [
    "reduce_output = list(MapReduce(RECORDREADER, MAP, REDUCE))\n",
    "max(i for ((i,k), vw) in reduce_output)"
   ],
   "outputs": [
    {
     "data": {
      "text/plain": [
       "1"
      ]
     },
     "execution_count": 65,
     "metadata": {},
     "output_type": "execute_result"
    }
   ],
   "execution_count": 65
  },
  {
   "cell_type": "markdown",
   "metadata": {
    "id": "i4yyg3kOZqJJ"
   },
   "source": [
    "Реализуйте перемножение матриц  с использованием модельного кода MapReduce для одной машины в случае, когда обе матрицы генерируются в RECORDREADER. Например, сначала одна, а потом другая."
   ]
  },
  {
   "cell_type": "code",
   "metadata": {
    "id": "3B7rIAJCaHZq",
    "ExecuteTime": {
     "end_time": "2025-03-03T19:04:34.119894Z",
     "start_time": "2025-03-03T19:04:34.105897Z"
    }
   },
   "source": [
    "K = 40\n",
    "\n",
    "# Генерация случайных матриц\n",
    "np.random.seed(42)  # Фиксируем seed для воспроизводимости результатов\n",
    "matrix_A = np.random.rand(I, J)  # Матрица A размером (I x J)\n",
    "matrix_B = np.random.rand(J, K)  # Матрица B размером (J x K)\n",
    "\n",
    "# Эталонное решение с использованием стандартного перемножения матриц\n",
    "reference_result = np.matmul(matrix_A, matrix_B)\n",
    "\n",
    "# Функция, читающая данные обеих матриц\n",
    "def DATA_SOURCE():\n",
    "    # Чтение первой матрицы (A)\n",
    "    for row in range(matrix_A.shape[0]):\n",
    "        for col in range(matrix_A.shape[1]):\n",
    "            yield ((0, row, col), matrix_A[row, col])  # Формат (0, row, col, A[row, col])\n",
    "\n",
    "    # Чтение второй матрицы (B)\n",
    "    for col in range(matrix_B.shape[0]):\n",
    "        for idx in range(matrix_B.shape[1]):\n",
    "            yield ((1, col, idx), matrix_B[col, idx])  # Формат (1, col, idx, B[col, idx])\n",
    "\n",
    "# Функция MAP для соединения матриц по индексу col\n",
    "def MAP_JOIN(key, value):\n",
    "    mat_type, row_or_col, col_or_idx = key  # Извлекаем номер матрицы и индексы\n",
    "    element = value\n",
    "\n",
    "    if mat_type == 0:  # Если это элемент первой матрицы (A)\n",
    "        yield (col_or_idx, (0, row_or_col, element))  # Группируем по col\n",
    "    else:  # Если это элемент второй матрицы (B)\n",
    "        yield (row_or_col, (1, col_or_idx, element))  # Группируем по col\n",
    "\n",
    "# Функция REDUCE для соединения матриц по col\n",
    "def REDUCE_JOIN(key, values):\n",
    "    matrix_A_elements = [v for v in values if v[0] == 0]  # Элементы первой матрицы (A)\n",
    "    matrix_B_elements = [v for v in values if v[0] == 1]  # Элементы второй матрицы (B)\n",
    "\n",
    "    for a in matrix_A_elements:\n",
    "        for b in matrix_B_elements:\n",
    "            yield ((a[1], b[1]), a[2] * b[2])  # Умножение значений a[row, col] * b[col, idx]\n",
    "\n",
    "# Функция MAP для финальной агрегации (суммирование произведений)\n",
    "def MAP_MUL(key, value):\n",
    "    yield (key, value)  # Оставляем ключ (row, idx) без изменений\n",
    "\n",
    "# Функция REDUCE для суммирования произведений элементов\n",
    "def REDUCE_MUL(key, values):\n",
    "    yield (key, sum(values))  # Складываем все элементы для ключа (row, idx)\n",
    "\n",
    "# Генерация объединённых значений через MapReduce\n",
    "joined = MapReduce(DATA_SOURCE, MAP_JOIN, REDUCE_JOIN)\n",
    "\n",
    "# Выполнение финального этапа MapReduce для получения результата\n",
    "solution = MapReduce(lambda: joined, MAP_MUL, REDUCE_MUL)\n",
    "\n",
    "# Проверка, совпадает ли результат с эталонным значением\n",
    "print(np.allclose(reference_result, asmatrix(solution)))  # Должно вывести True\n"
   ],
   "outputs": [
    {
     "name": "stdout",
     "output_type": "stream",
     "text": [
      "True\n"
     ]
    }
   ],
   "execution_count": 73
  },
  {
   "cell_type": "markdown",
   "metadata": {
    "id": "mXyzQi1DaIwo"
   },
   "source": "Реализуйте перемножение матриц с использованием модельного кода MapReduce Distributed, когда каждая матрица генерируется в своём RECORDREADER. "
  },
  {
   "cell_type": "code",
   "metadata": {
    "id": "TDM_s78Rb5eR",
    "ExecuteTime": {
     "end_time": "2025-03-03T19:09:16.597213Z",
     "start_time": "2025-03-03T19:09:16.582212Z"
    }
   },
   "source": [
    "import numpy as np\n",
    "from collections import defaultdict\n",
    "from typing import List, Tuple, Dict, NamedTuple\n",
    "\n",
    "NUM_MAPPERS = 2\n",
    "NUM_REDUCERS = 2\n",
    "ROWS_A = 2\n",
    "COLS_A = 3\n",
    "COLS_B = 40  # K = 4 * 10\n",
    "\n",
    "# Генерация данных\n",
    "A = np.random.rand(ROWS_A, COLS_A)\n",
    "B = np.random.rand(COLS_A, COLS_B)\n",
    "\n",
    "# Эталонное решение с использованием стандартного перемножения матриц\n",
    "reference_result = np.matmul(A, B)\n",
    "\n",
    "def generate_chunks():\n",
    "    \"\"\"Создаёт части матриц для обработки в MAP.\"\"\"\n",
    "    chunk_size = int(np.ceil(ROWS_A / NUM_MAPPERS))\n",
    "    for i_start in range(0, ROWS_A, chunk_size):\n",
    "        yield process_chunk(range(i_start, min(i_start + chunk_size, ROWS_A)))\n",
    "\n",
    "def process_chunk(rows):\n",
    "    \"\"\"Генерирует пары (координаты, значение) из двух матриц.\"\"\"\n",
    "    for i in rows:\n",
    "        for j in range(COLS_A):\n",
    "            for k in range(COLS_B):\n",
    "                yield ((i, j), A[i, j]), ((j, k), B[j, k])\n",
    "\n",
    "def map_function(pair_A, pair_B):\n",
    "    \"\"\"Умножает элементы и группирует по (i, k).\"\"\"\n",
    "    (i, j), val_A = pair_A\n",
    "    (j, k), val_B = pair_B\n",
    "    yield (i, k), val_A * val_B\n",
    "\n",
    "def reduce_function(index, values):\n",
    "    \"\"\"Суммирует элементы с одинаковыми индексами.\"\"\"\n",
    "    yield index, sum(values)\n",
    "\n",
    "def MapReduceDistributed(chunk_generator, map_func, reduce_func):\n",
    "    \"\"\"Имитирует распределенное выполнение MapReduce.\"\"\"\n",
    "    intermediate_results = []\n",
    "\n",
    "    # MAP\n",
    "    for chunk in chunk_generator():\n",
    "        mapped_data = []\n",
    "        for pair_A, pair_B in chunk:\n",
    "            mapped_data.extend(map_func(pair_A, pair_B))\n",
    "\n",
    "        # SHUFFLE\n",
    "        grouped_data = defaultdict(list)\n",
    "        for key, value in mapped_data:\n",
    "            grouped_data[key].append(value)\n",
    "\n",
    "        # REDUCE\n",
    "        reduced_data = []\n",
    "        for key, values in grouped_data.items():\n",
    "            reduced_data.extend(reduce_func(key, values))\n",
    "\n",
    "        intermediate_results.append(reduced_data)\n",
    "\n",
    "    return intermediate_results\n",
    "\n",
    "# Запуск MapReduce\n",
    "intermediate_results = MapReduceDistributed(generate_chunks, map_function, reduce_function)\n",
    "\n",
    "# Объединение результатов\n",
    "final_result = {}\n",
    "for partition in intermediate_results:\n",
    "    for index, value in partition:\n",
    "        final_result[index] = final_result.get(index, 0) + value\n",
    "\n",
    "# Преобразование результата в формат матрицы\n",
    "result_matrix = np.zeros((ROWS_A, COLS_B))\n",
    "for (i, k), value in final_result.items():\n",
    "    result_matrix[i, k] = value\n",
    "\n",
    "\n",
    "np.allclose(reference_result, result_matrix) \n"
   ],
   "outputs": [
    {
     "data": {
      "text/plain": [
       "True"
      ]
     },
     "execution_count": 76,
     "metadata": {},
     "output_type": "execute_result"
    }
   ],
   "execution_count": 76
  },
  {
   "cell_type": "markdown",
   "metadata": {
    "id": "ZuSA2P9Db6UM"
   },
   "source": [
    "Обобщите предыдущее решение на случай, когда каждая матрица генерируется несколькими RECORDREADER-ами, и проверьте его работоспособность. Будет ли работать решение, если RECORDREADER-ы будут генерировать случайное подмножество элементов матрицы?"
   ]
  },
  {
   "cell_type": "code",
   "metadata": {
    "id": "ehN0FqRDcwU5",
    "ExecuteTime": {
     "end_time": "2025-03-03T19:15:08.187977Z",
     "start_time": "2025-03-03T19:15:08.157976Z"
    }
   },
   "source": [
    "import numpy as np\n",
    "\n",
    "# Устанавливаем размеры входных матриц\n",
    "rows_x = 2\n",
    "cols_x = 3\n",
    "cols_y = 4 * 10\n",
    "\n",
    "# Генерируем случайные матрицы\n",
    "matrix_x = np.random.rand(rows_x, cols_x)\n",
    "matrix_y = np.random.rand(cols_x, cols_y)\n",
    "\n",
    "# Эталонный результат матричного умножения\n",
    "reference_result = np.matmul(matrix_x, matrix_y)\n",
    "\n",
    "# Функция для разворачивания вложенных списков\n",
    "\n",
    "def unfold_nested(iterable):\n",
    "    for sublist in iterable:\n",
    "        for item in sublist:\n",
    "            yield item\n",
    "\n",
    "# Группировка элементов по ключу\n",
    "\n",
    "def categorize_by_key(sequence):\n",
    "    categorized = {}\n",
    "    for (key, value) in sequence:\n",
    "        categorized[key] = categorized.get(key, []) + [value]\n",
    "    return categorized.items()\n",
    "\n",
    "# Разбиение элементов по разделам для параллельной обработки\n",
    "\n",
    "def parallel_partitioning(mapped_parts, partition_algo):\n",
    "    global reducer_count\n",
    "    partitions = [dict() for _ in range(reducer_count)]\n",
    "    for mapped_part in mapped_parts:\n",
    "        for (key, value) in mapped_part:\n",
    "            partition = partitions[partition_algo(key)]\n",
    "            partition[key] = partition.get(key, []) + [value]\n",
    "    return [(partition_id, sorted(partition.items(), key=lambda x: x[0])) for (partition_id, partition) in enumerate(partitions)]\n",
    "\n",
    "# Функция разбиения ключей\n",
    "\n",
    "def key_divider(identifier):\n",
    "    global reducer_count\n",
    "    return hash(identifier) % reducer_count\n",
    "\n",
    "# Универсальная функция выполнения MapReduce\n",
    "\n",
    "def execute_map_reduce(input_source, map_op, reduce_op, partition_algo=key_divider, combiner=None):\n",
    "    mapped_parts = map(lambda reader: unfold_nested(map(lambda kv: map_op(*kv), reader)), input_source())\n",
    "    \n",
    "    if combiner is not None:\n",
    "        mapped_parts = map(lambda mapped: unfold_nested(map(lambda kv: combiner(*kv), categorize_by_key(mapped))), mapped_parts)\n",
    "    \n",
    "    reduced_parts = parallel_partitioning(mapped_parts, partition_algo)\n",
    "    \n",
    "    reduced_output = map(lambda part: (part[0], unfold_nested(map(lambda group: reduce_op(*group), part[1]))), reduced_parts)\n",
    "    \n",
    "    return reduced_output\n",
    "\n",
    "# Преобразование результата в матрицу\n",
    "\n",
    "def assemble_matrix(reduce_result):\n",
    "    reduce_result = list(reduce_result)\n",
    "    row_count = max(i for ((i, k), value) in reduce_result) + 1\n",
    "    col_count = max(k for ((i, k), value) in reduce_result) + 1\n",
    "    output_matrix = np.empty(shape=(row_count, col_count))\n",
    "    for ((i, k), value) in reduce_result:\n",
    "        output_matrix[i, k] = value\n",
    "    return output_matrix\n",
    "\n",
    "# Формирование входных данных\n",
    "\n",
    "def generate_input():\n",
    "    data_x = []\n",
    "    for i in range(matrix_x.shape[0]):\n",
    "        for j in range(matrix_x.shape[1]):\n",
    "            data_x.append(((0, i, j), matrix_x[i, j]))  # Первая матрица\n",
    "    \n",
    "    global mapper_count\n",
    "    batch_size = int(np.ceil(len(data_x) / mapper_count))\n",
    "    \n",
    "    for i in range(0, len(data_x), batch_size):\n",
    "        yield data_x[i:i + batch_size]\n",
    "    \n",
    "    data_y = []\n",
    "    for j in range(matrix_y.shape[0]):\n",
    "        for k in range(matrix_y.shape[1]):\n",
    "            data_y.append(((1, j, k), matrix_y[j, k]))  # Вторая матрица\n",
    "    \n",
    "    batch_size = int(np.ceil(len(data_y) / mapper_count))\n",
    "    \n",
    "    for i in range(0, len(data_y), batch_size):\n",
    "        yield data_y[i:i + batch_size]\n",
    "\n",
    "# MAP-операция для соединения данных\n",
    "\n",
    "def map_combine(key1, value1):\n",
    "    (matrix_id, i, j) = key1\n",
    "    element = value1\n",
    "    \n",
    "    if matrix_id == 0:\n",
    "        yield (j, (matrix_id, i, element))\n",
    "    else:\n",
    "        yield (i, (matrix_id, j, element))\n",
    "\n",
    "# REDUCE-операция для объединения данных\n",
    "\n",
    "def reduce_combine(key, values):\n",
    "    from_x = [v for v in values if v[0] == 0]\n",
    "    from_y = [v for v in values if v[0] == 1]\n",
    "    \n",
    "    for x in from_x:\n",
    "        for y in from_y:\n",
    "            yield ((x[1], y[1]), x[2] * y[2])\n",
    "\n",
    "# Генерация объединенных данных\n",
    "\n",
    "def fetch_combined_data():\n",
    "    for entry in combined_output:\n",
    "        yield entry[1]\n",
    "\n",
    "# MAP-операция для передачи данных\n",
    "\n",
    "def map_multiply(key1, value1):\n",
    "    yield (key1, value1)\n",
    "\n",
    "# REDUCE-операция для суммирования значений\n",
    "\n",
    "def reduce_multiply(key, values):\n",
    "    yield (key, sum(values))\n",
    "\n",
    "mapper_count = 3\n",
    "reducer_count = 2\n",
    "\n",
    "# Выполнение первой части MapReduce (объединение)\n",
    "partitioned_data = execute_map_reduce(generate_input, map_combine, reduce_combine, combiner=None)\n",
    "combined_output = [(partition_id, list(partition)) for (partition_id, partition) in partitioned_data]\n",
    "\n",
    "# Выполнение второй части MapReduce (умножение)\n",
    "multiplication_result = execute_map_reduce(fetch_combined_data, map_multiply, reduce_multiply, combiner=None)\n",
    "final_data = [(partition_id, list(partition)) for (partition_id, partition) in multiplication_result]\n",
    "\n",
    "# Формирование окончательного результата\n",
    "final_matrix_data = []\n",
    "\n",
    "for partition in final_data:\n",
    "    for value in partition[1]:\n",
    "        final_matrix_data.append(value)\n",
    "\n",
    "np.allclose(reference_result, assemble_matrix(final_matrix_data))\n"
   ],
   "outputs": [
    {
     "data": {
      "text/plain": [
       "True"
      ]
     },
     "execution_count": 84,
     "metadata": {},
     "output_type": "execute_result"
    }
   ],
   "execution_count": 84
  }
 ]
}
