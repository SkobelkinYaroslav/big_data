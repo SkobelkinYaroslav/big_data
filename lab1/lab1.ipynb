{
  "nbformat": 4,
  "nbformat_minor": 0,
  "metadata": {
    "colab": {
      "provenance": []
    },
    "kernelspec": {
      "name": "python3",
      "display_name": "Python 3"
    },
    "language_info": {
      "name": "python"
    }
  },
  "cells": [
    {
      "cell_type": "markdown",
      "source": [
        "Импорт библиотек, подготовка к работе  данными"
      ],
      "metadata": {
        "id": "Huc4g6PUaN6Q"
      }
    },
    {
      "cell_type": "code",
      "source": [
        "from pyspark.sql import SparkSession\n",
        "from pyspark.sql.functions import col, unix_timestamp, sum as spark_sum, countDistinct, max as spark_max, udf\n",
        "from pyspark.sql.types import DoubleType\n",
        "from pyspark.sql.functions import radians, cos, sin, sqrt, atan2\n",
        "from geopy.distance import geodesic\n",
        "\n",
        "# Создание сессии Spark\n",
        "spark = SparkSession.builder \\\n",
        "    .appName(\"yarl_lab_1\") \\\n",
        "    .getOrCreate()"
      ],
      "metadata": {
        "id": "xBMdL5sPaM6z"
      },
      "execution_count": 68,
      "outputs": []
    },
    {
      "cell_type": "markdown",
      "source": [
        "Найти велосипед с максимальным временем пробега."
      ],
      "metadata": {
        "id": "hVnjoPiNaNQy"
      }
    },
    {
      "cell_type": "code",
      "source": [
        "trip_df = spark.read.option(\"header\", \"true\").csv(\"trip.csv\")\n",
        "\n",
        "trips_with_duration = trip_df.withColumn(\n",
        "    \"start_timestamp\", unix_timestamp(col(\"start_date\"), \"M/d/yyyy H:mm\")\n",
        ").withColumn(\n",
        "    \"end_timestamp\", unix_timestamp(col(\"end_date\"), \"M/d/yyyy H:mm\")\n",
        ").withColumn(\n",
        "    \"duration_minutes\", (col(\"end_timestamp\") - col(\"start_timestamp\")) / 60\n",
        ")\n",
        "\n",
        "# Группируем данные по bike_id и вычисляем общую длительность поездок\n",
        "bike_max = trips_with_duration.groupBy(\"bike_id\") \\\n",
        "    .agg(\n",
        "        # Суммируем длительность поездок для каждого велосипеда\n",
        "        spark_sum(\"duration_minutes\").alias(\"total_minutes\")\n",
        "    ) \\\n",
        "    .orderBy(\n",
        "        # Сортируем по общей длительности в порядке убывания\n",
        "        col(\"total_minutes\").desc()\n",
        "    ) \\\n",
        "    .limit(1)  # Ограничиваем результат до одного велосипеда с максимальной длительностью\n",
        "\n",
        "# Выводим результат на экран\n",
        "bike_max.show()\n",
        "\n"
      ],
      "metadata": {
        "colab": {
          "base_uri": "https://localhost:8080/"
        },
        "id": "iGtcdR8TaduK",
        "outputId": "b04c4446-8ef4-4ba8-fb79-30e76deb1b2d"
      },
      "execution_count": 44,
      "outputs": [
        {
          "output_type": "stream",
          "name": "stdout",
          "text": [
            "+-------+-------------+\n",
            "|bike_id|total_minutes|\n",
            "+-------+-------------+\n",
            "|    378|     631684.0|\n",
            "+-------+-------------+\n",
            "\n"
          ]
        }
      ]
    },
    {
      "cell_type": "markdown",
      "source": [
        "Найти наибольшее геодезическое расстояние между станциями."
      ],
      "metadata": {
        "id": "z2AS5nPjekzY"
      }
    },
    {
      "cell_type": "code",
      "source": [
        "station_df = spark.read.option(\"header\", \"true\").csv(\"station.csv\")\n",
        "\n",
        "# Приводим нужные колонки к числовому типу (иначе они строки)\n",
        "stations_df = station_df.withColumn(\"lat\", col(\"lat\").cast(\"double\")) \\\n",
        "                         .withColumn(\"long\", col(\"long\").cast(\"double\"))\n",
        "\n",
        "# Извлекаем нужные на данном этапе данные\n",
        "stations_list = stations_df.select(\"id\", \"lat\", \"long\").collect()\n",
        "\n",
        "max_geodesic_distance = 0\n",
        "# Проходим по всем парам станций для вычисления расстояния\n",
        "for i in range(len(stations_list)):\n",
        "    for j in range(i + 1, len(stations_list)):\n",
        "        station1, station2 = stations_list[i], stations_list[j]\n",
        "\n",
        "        # Вычисляем расстояние между двумя станциями\n",
        "        distance = geodesic((station1[\"lat\"], station1[\"long\"]), (station2[\"lat\"], station2[\"long\"])).km\n",
        "\n",
        "        max_geodesic_distance = max(max_geodesic_distance, distance)\n",
        "\n",
        "max_geodesic_distance\n"
      ],
      "metadata": {
        "colab": {
          "base_uri": "https://localhost:8080/"
        },
        "id": "eEbABO6aeqcD",
        "outputId": "63550169-44c3-40a7-e857-feb996844819"
      },
      "execution_count": 54,
      "outputs": [
        {
          "output_type": "execute_result",
          "data": {
            "text/plain": [
              "69.92096757764355"
            ]
          },
          "metadata": {},
          "execution_count": 54
        }
      ]
    },
    {
      "cell_type": "markdown",
      "source": [
        "Найти путь велосипеда с максимальным временем пробега через станции."
      ],
      "metadata": {
        "id": "_85TKmbIgZDf"
      }
    },
    {
      "cell_type": "code",
      "source": [
        "# Получаем id из данных первого задания\n",
        "bike_id_max = bike_max.collect()[0][\"bike_id\"]\n",
        "\n",
        "# Отбираем поездки для этого велосипеда и сортируем по start_date\n",
        "bike_trips = trips_with_duration.filter(col(\"bike_id\") == bike_id_max) \\\n",
        "    .select(\"start_date\", \"start_station_name\", \"end_station_name\") \\\n",
        "    .orderBy(\"start_date\")\n",
        "\n",
        "# Выводим путь\n",
        "bike_trips.show()"
      ],
      "metadata": {
        "colab": {
          "base_uri": "https://localhost:8080/"
        },
        "id": "iSxinrsQgajJ",
        "outputId": "28423a30-d5c9-4de5-a380-01ada3d98eb9"
      },
      "execution_count": 58,
      "outputs": [
        {
          "output_type": "stream",
          "name": "stdout",
          "text": [
            "+---------------+--------------------+--------------------+\n",
            "|     start_date|  start_station_name|    end_station_name|\n",
            "+---------------+--------------------+--------------------+\n",
            "|1/10/2014 13:15|Commercial at Mon...|       Market at 4th|\n",
            "|1/10/2014 18:40|       Market at 4th|      Market at 10th|\n",
            "|1/10/2014 22:24|       Market at 4th|Harry Bridges Pla...|\n",
            "|1/10/2014 22:39|Harry Bridges Pla...|Embarcadero at Sa...|\n",
            "|1/10/2014 23:13|Embarcadero at Sa...|       Market at 4th|\n",
            "| 1/10/2014 7:38|San Francisco Cal...|South Van Ness at...|\n",
            "| 1/10/2014 9:44|South Van Ness at...|Mechanics Plaza (...|\n",
            "|1/11/2014 13:17|       Market at 4th|      Market at 10th|\n",
            "| 1/11/2015 9:47|Temporary Transba...|       Market at 4th|\n",
            "| 1/11/2015 9:47|Temporary Transba...|       Market at 4th|\n",
            "|1/12/2014 17:04|      Market at 10th|       Market at 4th|\n",
            "|1/12/2015 13:37|       2nd at Folsom|   2nd at South Park|\n",
            "|1/12/2015 13:37|       2nd at Folsom|   2nd at South Park|\n",
            "|1/12/2015 13:59|   2nd at South Park|       Market at 4th|\n",
            "|1/12/2015 13:59|   2nd at South Park|       Market at 4th|\n",
            "|1/12/2015 16:35|       Market at 4th|San Francisco Cal...|\n",
            "|1/12/2015 16:35|       Market at 4th|San Francisco Cal...|\n",
            "|1/12/2015 18:10|      Market at 10th|   Steuart at Market|\n",
            "|1/12/2015 18:10|      Market at 10th|   Steuart at Market|\n",
            "|1/13/2014 15:46|     Townsend at 7th|Civic Center BART...|\n",
            "+---------------+--------------------+--------------------+\n",
            "only showing top 20 rows\n",
            "\n"
          ]
        }
      ]
    },
    {
      "cell_type": "markdown",
      "source": [
        "Найти количество велосипедов в системе."
      ],
      "metadata": {
        "id": "vBH_uhYxhgrX"
      }
    },
    {
      "cell_type": "code",
      "source": [
        "# Селектим, а затем оставляем только уникальные айди\n",
        "bike_count = trip_df.select(\"bike_id\").distinct().count()\n",
        "\n",
        "bike_count"
      ],
      "metadata": {
        "colab": {
          "base_uri": "https://localhost:8080/"
        },
        "id": "pwTlzrGbhh-e",
        "outputId": "cd3a94b5-a15b-44d8-ce13-ce17d2df40a6"
      },
      "execution_count": 64,
      "outputs": [
        {
          "output_type": "execute_result",
          "data": {
            "text/plain": [
              "730"
            ]
          },
          "metadata": {},
          "execution_count": 64
        }
      ]
    },
    {
      "cell_type": "markdown",
      "source": [
        "Найти пользователей потративших на поездки более 3 часов."
      ],
      "metadata": {
        "id": "BaiE-BWSiEPv"
      }
    },
    {
      "cell_type": "code",
      "source": [
        "# Группируем пользователей\n",
        "users = trips_with_duration.groupBy(\"zip_code\")\n",
        "\n",
        "# Получаем сколько у юзера было суммарно затрачено на поезки\n",
        "user_time = users.agg(\n",
        "    spark_sum(\"duration_minutes\").alias(\"total_minutes\")\n",
        ")\n",
        "\n",
        "# Выбираем нужных\n",
        "active_users = user_time.filter(col(\"total_minutes\") > 180).show()"
      ],
      "metadata": {
        "colab": {
          "base_uri": "https://localhost:8080/"
        },
        "id": "Pc5AFMBriUwU",
        "outputId": "40121f26-e51c-4240-c9e8-2cc9d88fc634"
      },
      "execution_count": 67,
      "outputs": [
        {
          "output_type": "stream",
          "name": "stdout",
          "text": [
            "+--------+-------------+\n",
            "|zip_code|total_minutes|\n",
            "+--------+-------------+\n",
            "|   94102|     549054.0|\n",
            "|   95134|      22851.0|\n",
            "|   84606|       2946.0|\n",
            "|   80305|       5612.0|\n",
            "|   28117|        236.0|\n",
            "|   95519|        855.0|\n",
            "|   91910|       1343.0|\n",
            "|   60070|        483.0|\n",
            "|   43085|        324.0|\n",
            "|   77339|        349.0|\n",
            "|   48063|        249.0|\n",
            "|   85022|        418.0|\n",
            "|   90022|        218.0|\n",
            "|    1090|        680.0|\n",
            "|   75602|        202.0|\n",
            "|    2136|        532.0|\n",
            "|   11722|        810.0|\n",
            "|   11563|        676.0|\n",
            "|   95138|       3891.0|\n",
            "|   94610|     107376.0|\n",
            "+--------+-------------+\n",
            "only showing top 20 rows\n",
            "\n"
          ]
        }
      ]
    }
  ]
}